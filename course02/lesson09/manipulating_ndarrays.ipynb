{
 "cells": [
  {
   "metadata": {},
   "cell_type": "markdown",
   "source": "Create a 5 x 5 ndarray `X` with consecutive integers from 1 to 25 (inclusive). Afterwards use Boolean indexing to pick out only the odd numbers in the array and assign the result to `Y`.",
   "id": "55aa75e5eedba4a4"
  },
  {
   "metadata": {
    "ExecuteTime": {
     "end_time": "2025-02-14T14:39:45.566349Z",
     "start_time": "2025-02-14T14:39:45.563694Z"
    }
   },
   "cell_type": "code",
   "source": [
    "import numpy as np\n",
    "\n",
    "# TODO: replace None with appropriate code\n",
    "# Create a 5 x 5 ndarray with consecutive integers from 1 to 25 (inclusive).\n",
    "X = np.arange(1,26).reshape((5,5))\n",
    "print(X)\n",
    "\n",
    "# TODO: replace None with appropriate code\n",
    "# Use Boolean indexing to pick out only the odd numbers in the array\n",
    "Y = X[(X % 2 == 1)]\n",
    "print(Y)\n",
    "### Notebook grading\n",
    "X_solution = np.arange(1,26).reshape(5,5)\n",
    "Y_solution= X_solution[X_solution % 2 != 0]\n",
    "\n",
    "if type(X) != np.ndarray or type(Y) != np.ndarray:\n",
    "    print(\"`X` and `Y` should both be ndarrays\")\n",
    "elif np.array_equal(X, X_solution) and np.array_equal(Y, Y_solution):\n",
    "    print(\"Nice work! You can view my solution below\")\n",
    "elif X.shape != X_solution.shape:\n",
    "    print(\"Your answer for `X` has a shape of {} but it should be 5 x 5\".format(X.shape))\n",
    "elif len(Y) != len(Y_solution):\n",
    "    print(\"Your answer for `Y` has a length of {} but it should have a length of 13\".format(len(Y)))\n",
    "else:\n",
    "    print(\"Your answers have the right shape but incorrect values\")\n"
   ],
   "id": "75263b797748589f",
   "outputs": [
    {
     "name": "stdout",
     "output_type": "stream",
     "text": [
      "[[ 1  2  3  4  5]\n",
      " [ 6  7  8  9 10]\n",
      " [11 12 13 14 15]\n",
      " [16 17 18 19 20]\n",
      " [21 22 23 24 25]]\n",
      "[ 1  3  5  7  9 11 13 15 17 19 21 23 25]\n",
      "Nice work! You can view my solution below\n"
     ]
    }
   ],
   "execution_count": 10
  },
  {
   "metadata": {},
   "cell_type": "code",
   "outputs": [],
   "execution_count": null,
   "source": "",
   "id": "2d75bac21c0a939b"
  }
 ],
 "metadata": {
  "kernelspec": {
   "display_name": "Python 3",
   "language": "python",
   "name": "python3"
  },
  "language_info": {
   "codemirror_mode": {
    "name": "ipython",
    "version": 2
   },
   "file_extension": ".py",
   "mimetype": "text/x-python",
   "name": "python",
   "nbconvert_exporter": "python",
   "pygments_lexer": "ipython2",
   "version": "2.7.6"
  }
 },
 "nbformat": 4,
 "nbformat_minor": 5
}
