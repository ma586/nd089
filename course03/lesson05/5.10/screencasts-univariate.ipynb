{
 "cells": [
  {
   "cell_type": "markdown",
   "metadata": {},
   "source": [
    "# Lesson 3: Univariate Exploration of Data\n",
    "## Screencast Script\n",
    "\n",
    "(Make sure that you've downloaded `pokemon.csv` to be able to run the cells in\n",
    "this notebook!)\n",
    "\n",
    "> Hi there! I hope you're ready to start using Python to visualize your data.\n",
    "In this course, we will use numpy and pandas to store our data and we will use \n",
    "matplotlib and seaborn to create our visualizations. You might see the\n",
    "abbreviation 'sns' for seaborn, but I'll be using 'sb' in this course. We will\n",
    "also write and run all of our code using Jupyter notebooks; this magic command,\n",
    "`%matplotlib inline`, allows plots to be rendered directly inside the notebook."
   ]
  },
  {
   "cell_type": "code",
   "metadata": {
    "ExecuteTime": {
     "end_time": "2025-02-17T12:54:25.491924Z",
     "start_time": "2025-02-17T12:54:25.481779Z"
    }
   },
   "source": [
    "# prerequisite package imports\n",
    "import numpy as np\n",
    "import pandas as pd\n",
    "import matplotlib.pyplot as plt\n",
    "import seaborn as sb\n",
    "\n",
    "%matplotlib inline"
   ],
   "outputs": [],
   "execution_count": 1
  },
  {
   "cell_type": "code",
   "metadata": {
    "ExecuteTime": {
     "end_time": "2025-02-17T12:54:26.862527Z",
     "start_time": "2025-02-17T12:54:26.856735Z"
    }
   },
   "source": [
    "# load in the data\n",
    "\n",
    "pokemon = pd.read_csv('data/pokemon.csv')"
   ],
   "outputs": [],
   "execution_count": 2
  },
  {
   "cell_type": "markdown",
   "metadata": {},
   "source": [
    "> In this lesson, we're going to make use of this dataset comprised of\n",
    "attributes of creatures in the video game series Pokémon. The dataset consists\n",
    "of 807 rows by 14 columns, which include both categorical and numeric features."
   ]
  },
  {
   "cell_type": "code",
   "metadata": {
    "ExecuteTime": {
     "end_time": "2025-02-17T12:55:04.736108Z",
     "start_time": "2025-02-17T12:55:04.728147Z"
    }
   },
   "source": [
    "# take a basic look at the data\n",
    "pokemon.head(10)"
   ],
   "outputs": [
    {
     "data": {
      "text/plain": [
       "   id     species  generation_id  height  weight  base_experience type_1  \\\n",
       "0   1   bulbasaur              1     0.7     6.9               64  grass   \n",
       "1   2     ivysaur              1     1.0    13.0              142  grass   \n",
       "2   3    venusaur              1     2.0   100.0              236  grass   \n",
       "3   4  charmander              1     0.6     8.5               62   fire   \n",
       "4   5  charmeleon              1     1.1    19.0              142   fire   \n",
       "5   6   charizard              1     1.7    90.5              240   fire   \n",
       "6   7    squirtle              1     0.5     9.0               63  water   \n",
       "7   8   wartortle              1     1.0    22.5              142  water   \n",
       "8   9   blastoise              1     1.6    85.5              239  water   \n",
       "9  10    caterpie              1     0.3     2.9               39    bug   \n",
       "\n",
       "   type_2  hp  attack  defense  speed  special-attack  special-defense  \n",
       "0  poison  45      49       49     45              65               65  \n",
       "1  poison  60      62       63     60              80               80  \n",
       "2  poison  80      82       83     80             100              100  \n",
       "3     NaN  39      52       43     65              60               50  \n",
       "4     NaN  58      64       58     80              80               65  \n",
       "5  flying  78      84       78    100             109               85  \n",
       "6     NaN  44      48       65     43              50               64  \n",
       "7     NaN  59      63       80     58              65               80  \n",
       "8     NaN  79      83      100     78              85              105  \n",
       "9     NaN  45      30       35     45              20               20  "
      ],
      "text/html": [
       "<div>\n",
       "<style scoped>\n",
       "    .dataframe tbody tr th:only-of-type {\n",
       "        vertical-align: middle;\n",
       "    }\n",
       "\n",
       "    .dataframe tbody tr th {\n",
       "        vertical-align: top;\n",
       "    }\n",
       "\n",
       "    .dataframe thead th {\n",
       "        text-align: right;\n",
       "    }\n",
       "</style>\n",
       "<table border=\"1\" class=\"dataframe\">\n",
       "  <thead>\n",
       "    <tr style=\"text-align: right;\">\n",
       "      <th></th>\n",
       "      <th>id</th>\n",
       "      <th>species</th>\n",
       "      <th>generation_id</th>\n",
       "      <th>height</th>\n",
       "      <th>weight</th>\n",
       "      <th>base_experience</th>\n",
       "      <th>type_1</th>\n",
       "      <th>type_2</th>\n",
       "      <th>hp</th>\n",
       "      <th>attack</th>\n",
       "      <th>defense</th>\n",
       "      <th>speed</th>\n",
       "      <th>special-attack</th>\n",
       "      <th>special-defense</th>\n",
       "    </tr>\n",
       "  </thead>\n",
       "  <tbody>\n",
       "    <tr>\n",
       "      <th>0</th>\n",
       "      <td>1</td>\n",
       "      <td>bulbasaur</td>\n",
       "      <td>1</td>\n",
       "      <td>0.7</td>\n",
       "      <td>6.9</td>\n",
       "      <td>64</td>\n",
       "      <td>grass</td>\n",
       "      <td>poison</td>\n",
       "      <td>45</td>\n",
       "      <td>49</td>\n",
       "      <td>49</td>\n",
       "      <td>45</td>\n",
       "      <td>65</td>\n",
       "      <td>65</td>\n",
       "    </tr>\n",
       "    <tr>\n",
       "      <th>1</th>\n",
       "      <td>2</td>\n",
       "      <td>ivysaur</td>\n",
       "      <td>1</td>\n",
       "      <td>1.0</td>\n",
       "      <td>13.0</td>\n",
       "      <td>142</td>\n",
       "      <td>grass</td>\n",
       "      <td>poison</td>\n",
       "      <td>60</td>\n",
       "      <td>62</td>\n",
       "      <td>63</td>\n",
       "      <td>60</td>\n",
       "      <td>80</td>\n",
       "      <td>80</td>\n",
       "    </tr>\n",
       "    <tr>\n",
       "      <th>2</th>\n",
       "      <td>3</td>\n",
       "      <td>venusaur</td>\n",
       "      <td>1</td>\n",
       "      <td>2.0</td>\n",
       "      <td>100.0</td>\n",
       "      <td>236</td>\n",
       "      <td>grass</td>\n",
       "      <td>poison</td>\n",
       "      <td>80</td>\n",
       "      <td>82</td>\n",
       "      <td>83</td>\n",
       "      <td>80</td>\n",
       "      <td>100</td>\n",
       "      <td>100</td>\n",
       "    </tr>\n",
       "    <tr>\n",
       "      <th>3</th>\n",
       "      <td>4</td>\n",
       "      <td>charmander</td>\n",
       "      <td>1</td>\n",
       "      <td>0.6</td>\n",
       "      <td>8.5</td>\n",
       "      <td>62</td>\n",
       "      <td>fire</td>\n",
       "      <td>NaN</td>\n",
       "      <td>39</td>\n",
       "      <td>52</td>\n",
       "      <td>43</td>\n",
       "      <td>65</td>\n",
       "      <td>60</td>\n",
       "      <td>50</td>\n",
       "    </tr>\n",
       "    <tr>\n",
       "      <th>4</th>\n",
       "      <td>5</td>\n",
       "      <td>charmeleon</td>\n",
       "      <td>1</td>\n",
       "      <td>1.1</td>\n",
       "      <td>19.0</td>\n",
       "      <td>142</td>\n",
       "      <td>fire</td>\n",
       "      <td>NaN</td>\n",
       "      <td>58</td>\n",
       "      <td>64</td>\n",
       "      <td>58</td>\n",
       "      <td>80</td>\n",
       "      <td>80</td>\n",
       "      <td>65</td>\n",
       "    </tr>\n",
       "    <tr>\n",
       "      <th>5</th>\n",
       "      <td>6</td>\n",
       "      <td>charizard</td>\n",
       "      <td>1</td>\n",
       "      <td>1.7</td>\n",
       "      <td>90.5</td>\n",
       "      <td>240</td>\n",
       "      <td>fire</td>\n",
       "      <td>flying</td>\n",
       "      <td>78</td>\n",
       "      <td>84</td>\n",
       "      <td>78</td>\n",
       "      <td>100</td>\n",
       "      <td>109</td>\n",
       "      <td>85</td>\n",
       "    </tr>\n",
       "    <tr>\n",
       "      <th>6</th>\n",
       "      <td>7</td>\n",
       "      <td>squirtle</td>\n",
       "      <td>1</td>\n",
       "      <td>0.5</td>\n",
       "      <td>9.0</td>\n",
       "      <td>63</td>\n",
       "      <td>water</td>\n",
       "      <td>NaN</td>\n",
       "      <td>44</td>\n",
       "      <td>48</td>\n",
       "      <td>65</td>\n",
       "      <td>43</td>\n",
       "      <td>50</td>\n",
       "      <td>64</td>\n",
       "    </tr>\n",
       "    <tr>\n",
       "      <th>7</th>\n",
       "      <td>8</td>\n",
       "      <td>wartortle</td>\n",
       "      <td>1</td>\n",
       "      <td>1.0</td>\n",
       "      <td>22.5</td>\n",
       "      <td>142</td>\n",
       "      <td>water</td>\n",
       "      <td>NaN</td>\n",
       "      <td>59</td>\n",
       "      <td>63</td>\n",
       "      <td>80</td>\n",
       "      <td>58</td>\n",
       "      <td>65</td>\n",
       "      <td>80</td>\n",
       "    </tr>\n",
       "    <tr>\n",
       "      <th>8</th>\n",
       "      <td>9</td>\n",
       "      <td>blastoise</td>\n",
       "      <td>1</td>\n",
       "      <td>1.6</td>\n",
       "      <td>85.5</td>\n",
       "      <td>239</td>\n",
       "      <td>water</td>\n",
       "      <td>NaN</td>\n",
       "      <td>79</td>\n",
       "      <td>83</td>\n",
       "      <td>100</td>\n",
       "      <td>78</td>\n",
       "      <td>85</td>\n",
       "      <td>105</td>\n",
       "    </tr>\n",
       "    <tr>\n",
       "      <th>9</th>\n",
       "      <td>10</td>\n",
       "      <td>caterpie</td>\n",
       "      <td>1</td>\n",
       "      <td>0.3</td>\n",
       "      <td>2.9</td>\n",
       "      <td>39</td>\n",
       "      <td>bug</td>\n",
       "      <td>NaN</td>\n",
       "      <td>45</td>\n",
       "      <td>30</td>\n",
       "      <td>35</td>\n",
       "      <td>45</td>\n",
       "      <td>20</td>\n",
       "      <td>20</td>\n",
       "    </tr>\n",
       "  </tbody>\n",
       "</table>\n",
       "</div>"
      ]
     },
     "execution_count": 3,
     "metadata": {},
     "output_type": "execute_result"
    }
   ],
   "execution_count": 3
  },
  {
   "cell_type": "markdown",
   "metadata": {},
   "source": [
    "## 3.3 Bar Charts\n",
    "\n",
    "### Main Points\n",
    "\n",
    "1. How to create a basic bar chart.\n",
    "2. How to reorder bars for a bar chart, either by frequency or by ordinal sorting.\n",
    "3. How to create a horizontal bar chart.\n",
    "\n",
    "> To start off with, let's create a bar chart on one of the categorical\n",
    "variables in the dataset: `generation id`. Even though the values in the column\n",
    "look numeric, they're actually just categorical labels, indicating when each\n",
    "species was introduced to the series from 1st generation to 7th generation.\n",
    "> \n",
    "> To create a bar chart, we want to make use of the seaborn function\n",
    "\"countplot\". We set the data source, the `pokemon` dataframe, on the data\n",
    "parameter, and the variable of interest, the `generation_id` column, on the x\n",
    "parameter. It's not absolutely necessary, but I've added a semicolon to the end\n",
    "of the expression to suppress printing of the plotting object information."
   ]
  },
  {
   "cell_type": "code",
   "execution_count": null,
   "metadata": {},
   "outputs": [],
   "source": [
    "# create a basic bar chart\n",
    "sb.countplot(data = pokemon, x = 'generation_id');"
   ]
  },
  {
   "cell_type": "markdown",
   "metadata": {},
   "source": [
    "> We can see from the plot that the most Pokémon were introduced in generations\n",
    "1, 3, and 5, with the fewest in generations 6 and 7. One thing that bothers me\n",
    "about the default settings is that each bar is illustrated using a different\n",
    "color. The generation number is already encoded by position on the x-axis, and\n",
    "we don't have a good reason right now to associate each generation with a color.\n",
    "It's better to start by plotting everything in one color to avoid being distracted.\n",
    ">\n",
    "> I will obtain my color value using seaborn's \"color_palette\" function. This\n",
    "function returns a list of tuples corresponding to the color palette set in the\n",
    "function's arguments. Since I haven't specified any parameters, I'll just get back\n",
    "the current, default palette. I slice off index 0 to get the first tuple in the list,\n",
    "and store it in the `base_color` variable. Then, in the countplot function, I'll set\n",
    "the value of the \"color\" parameter to this tuple. The revised plot looks like this: much cleaner."
   ]
  },
  {
   "cell_type": "code",
   "execution_count": null,
   "metadata": {},
   "outputs": [],
   "source": [
    "# color is somewhat extraneous, so let's make it more uniform.\n",
    "base_color = sb.color_palette()[0]\n",
    "sb.countplot(data = pokemon, x = 'generation_id', color = base_color);"
   ]
  },
  {
   "cell_type": "markdown",
   "metadata": {},
   "source": [
    "> One thing we might want to do with the plot now is to sort the generations in\n",
    "order by number of Pokémon species that were introduced. This can be done with\n",
    "the \"order\" parameter in the \"countplot\" function. This parameter takes as an\n",
    "argument a list with the order in which bars should be plotted.\n",
    ">\n",
    "> We could approach this by hard-coding the values based on what we see in the\n",
    "unsorted plot. A better approach is to write some code to obtain that order\n",
    "programmatically. The pandas Series function \"value_counts\" is valuable here.\n",
    "This function counts the frequency of each unique value in the Series and\n",
    "sorts them in descending order. In order to get the bar order, we want the\n",
    "index values, then store them in a variable. We pass this to the order\n",
    "parameter to get the sorted bar chart:"
   ]
  },
  {
   "cell_type": "code",
   "execution_count": null,
   "metadata": {},
   "outputs": [],
   "source": [
    "pokemon['generation_id'].value_counts()"
   ]
  },
  {
   "cell_type": "code",
   "execution_count": null,
   "metadata": {},
   "outputs": [],
   "source": [
    "# let's try ordering the bars by count.\n",
    "gen_order = pokemon['generation_id'].value_counts().index"
   ]
  },
  {
   "cell_type": "code",
   "execution_count": null,
   "metadata": {},
   "outputs": [],
   "source": [
    "# creating the sorted bar chart\n",
    "sb.countplot(data = pokemon, x = 'generation_id', color = base_color, order = gen_order);"
   ]
  },
  {
   "cell_type": "markdown",
   "metadata": {},
   "source": [
    "> Let's move on to a different categorical variable: Pokémon type. Each species\n",
    "has one or two 'types' that play a part in each creature's offensive and\n",
    "defensive capabilities. For now, let's just take a look at the distribution of\n",
    "first Pokemon types. When we generate the bar chart, we can see that the bar\n",
    "labels on the x-axis are mostly unreadable due to overlap."
   ]
  },
  {
   "cell_type": "code",
   "execution_count": null,
   "metadata": {},
   "outputs": [],
   "source": [
    "# let's look at the same thing for primary pokemon types.\n",
    "sb.countplot(data = pokemon, x = 'type_1', color = base_color);"
   ]
  },
  {
   "cell_type": "markdown",
   "metadata": {},
   "source": [
    "> One thing that we might do is make use of matplotlib's \"xticks\" function to\n",
    "rotate the category labels. By setting `rotation = 90`, the labels are turned\n",
    "90 degrees counter-clockwise and no longer overlap."
   ]
  },
  {
   "cell_type": "code",
   "execution_count": null,
   "metadata": {},
   "outputs": [],
   "source": [
    "# there's some clear overlap between type names. We might turn the labels sideways:\n",
    "sb.countplot(data = pokemon, x = 'type_1', color = base_color);\n",
    "plt.xticks(rotation = 90);"
   ]
  },
  {
   "cell_type": "markdown",
   "metadata": {},
   "source": [
    "> An alternative strategy is to create a horizontal bar chart. In seaborn, this\n",
    "is as simple as changing the x parameter into a y. Now, the levels of the\n",
    "type variable are listed on the vertical axis, with frequency shown on the\n",
    "x-axis."
   ]
  },
  {
   "cell_type": "code",
   "execution_count": null,
   "metadata": {},
   "outputs": [],
   "source": [
    "# but we might be better off creating a horizontal plot instead.\n",
    "sb.countplot(data = pokemon, y = 'type_1', color = base_color);"
   ]
  },
  {
   "cell_type": "code",
   "execution_count": null,
   "metadata": {},
   "outputs": [],
   "source": [
    "# and here's that plot sorted by type frequency.\n",
    "type_order = pokemon['type_1'].value_counts().index\n",
    "sb.countplot(data = pokemon, y = 'type_1', color = base_color, order = type_order);"
   ]
  },
  {
   "cell_type": "markdown",
   "metadata": {},
   "source": [
    "> Once we sort the plot by type frequency, we can see that \"Water\" and \"Normal\"\n",
    "types are the most common first type taken by Pokémon, while \"Flying\" is the\n",
    "least common first type."
   ]
  },
  {
   "cell_type": "markdown",
   "metadata": {},
   "source": [
    "## 3.4 Absolute vs. Relative Frequency\n",
    "\n",
    "### Main Points\n",
    "\n",
    "1. Change axis labels or use aggregation to show relative frequency on the vertical axis.\n",
    "2. Use text to annotate a bar chart with relative frequencies or count to supplement axis."
   ]
  },
  {
   "cell_type": "code",
   "execution_count": null,
   "metadata": {},
   "outputs": [],
   "source": [
    "# creating a data frame with all of the pokemon types\n",
    "pkmn_types = pokemon.melt(id_vars = ['id','species'], \n",
    "                          value_vars = ['type_1', 'type_2'], \n",
    "                          var_name = 'type_level', value_name = 'type').dropna()\n",
    "pkmn_types.head(10)"
   ]
  },
  {
   "cell_type": "code",
   "execution_count": null,
   "metadata": {},
   "outputs": [],
   "source": [
    "# create a horizontal bar chart, similar to before.\n",
    "type_counts = pkmn_types['type'].value_counts()\n",
    "type_order = type_counts.index\n",
    "\n",
    "base_color = sb.color_palette()[0]\n",
    "sb.countplot(data = pkmn_types, y = 'type', color = base_color, order = type_order);"
   ]
  },
  {
   "cell_type": "markdown",
   "metadata": {},
   "source": [
    "> Last time we left off by creating a bar chart of Pokémon by their first type.\n",
    "I've performed some data wrangling to obtain a data frame with both first and\n",
    "second types in a single column. I've created some variables to get the types in\n",
    "order of frequency, then plotted those counts in a bar chart. One\n",
    "thing I'm interested in now is what proportion of Pokémon have each type. While\n",
    "I might be able to estimate this from the plot by knowing the total number of\n",
    "Pokémon, it's probably better to just show it directly in the visualization.\n",
    ">\n",
    "> One way of doing this is to use matplotlib to change the tick marks from labeling\n",
    "absolute counts to relative counts. Let's start by creating a list of tick positions.\n",
    "We start by computing the length of the longest bar, in terms of proportion. The\n",
    "original `pokemon` dataframe gives us the denominator, and we use \"value_counts\" to\n",
    "get the numerator."
   ]
  },
  {
   "cell_type": "code",
   "execution_count": null,
   "metadata": {},
   "outputs": [],
   "source": [
    "n_pokemon = pokemon.shape[0]\n",
    "max_type_count = type_counts[0]\n",
    "max_prop = max_type_count / n_pokemon\n",
    "print(max_prop)"
   ]
  },
  {
   "cell_type": "markdown",
   "metadata": {},
   "source": [
    "> Now, we use numpy's \"arange\" function to produce a set of evenly-spaced proportion\n",
    "values between 0 and the max in steps of 2 percent, storing the values in the\n",
    "`tick_props` variable. I'm also using a list comprehension to create an additional\n",
    "variable, `tick_names`, to apply to the tick labels. These strings will show the\n",
    "proportions with a consistent two decimal places. Now we're ready to modify our plot.\n",
    ">\n",
    "> To change the tick locations and labels, we use matplotlib's \"xticks\" function. The\n",
    "first argument sets the tick positions. Since the counts are still in absolute value, we\n",
    "need to multiply `tick_props` by the number of Pokémon to get their position correct. The\n",
    "second argument sets the tick labels. We need to use both arguments here since the\n",
    "positions and their values are different. Finally, we use the \"xlabel\" function to change\n",
    "the x-axis label from the default 'count' to the more appropriate 'proportion'."
   ]
  },
  {
   "cell_type": "code",
   "execution_count": null,
   "metadata": {},
   "outputs": [],
   "source": [
    "tick_props = np.arange(0, max_prop, 0.02)\n",
    "tick_names = ['{:0.2f}'.format(v) for v in tick_props]\n",
    "\n",
    "base_color = sb.color_palette()[0]\n",
    "sb.countplot(data = pkmn_types, y = 'type', color = base_color, order = type_order)\n",
    "plt.xticks(tick_props * n_pokemon, tick_names)\n",
    "plt.xlabel('proportion');"
   ]
  },
  {
   "cell_type": "markdown",
   "metadata": {},
   "source": [
    "> The resulting plot shows us that about 16% of all Pokémon include the \"Water\"\n",
    "type, all the way down to only 4% that include the Ice type.\n",
    ">\n",
    "> Alternatively, maybe we want to have the axis in terms of counts, and use text\n",
    "on the bars to show proportion. This is where the flexibility of matplotlib can\n",
    "shine. We use a loop to place text elements one by one. The first argument to\n",
    "the text function is the x-position, just after the end of the bar. The second\n",
    "argument is the y-position, which starts at 0 and increments with the loop. The\n",
    "third argument is the string to be printed. Finally, I've added an optional\n",
    "parameter, \"va\", to center the vertial alignment of text on each bar. The final\n",
    "plot looks like this:"
   ]
  },
  {
   "cell_type": "code",
   "execution_count": null,
   "metadata": {},
   "outputs": [],
   "source": [
    "sb.countplot(data = pkmn_types, y = 'type', color = base_color, order = type_order)\n",
    "\n",
    "for i in range(type_counts.shape[0]):\n",
    "    count = type_counts[i]\n",
    "    pct_string = '{:0.1f}%'.format(100*count/n_pokemon)\n",
    "    plt.text(count+1, i, pct_string, va = 'center')"
   ]
  },
  {
   "cell_type": "markdown",
   "metadata": {},
   "source": [
    "## 3.8 Histograms\n",
    "\n",
    "### Main Points\n",
    "\n",
    "1. How to create a basic histogram.\n",
    "2. How to select different bin widths.\n",
    "\n",
    "> Now, let's take a look at some numeric variables in this dataset. Let's\n",
    "start this example by looking at Pokémon speed: the higher the value, the\n",
    "sooner they will act in battle. Matplotlib has a built-in function for\n",
    "creating histograms: the \"hist\" function. We can create the basic histogram\n",
    "in the same way as the bar chart: data set to the pokemon dataframe and x\n",
    "to the \"speed\" variable."
   ]
  },
  {
   "cell_type": "code",
   "execution_count": null,
   "metadata": {},
   "outputs": [],
   "source": [
    "plt.hist(data = pokemon, x = 'speed');"
   ]
  },
  {
   "cell_type": "markdown",
   "metadata": {},
   "source": [
    "> The distribution of speed values appears unimodal and slightly\n",
    "right skewed, but there isn't a lot of detail here. By default,\n",
    "matplotlib will split the data into ten bins, which is usually too\n",
    "few. In addition, the bin boundaries are not particularly aligned\n",
    "with the tick marks, making interpretation trickier.\n",
    ">\n",
    "> To solve this, we want to use the bins parameter of the \"hist\"\n",
    "function. If we set an integer value for the bins, such as 20, then\n",
    "that will set the number of bins that will be used for plotting.\n",
    "However, this still has the problem of awkward bin boundaries.\n",
    "You can see the bin edges and counts returned by hist when I remove\n",
    "the semicolon. The fact that bin edges are non-integer, and the data\n",
    "values are integer, will mean that some bins cover more integer values\n",
    "than others."
   ]
  },
  {
   "cell_type": "code",
   "execution_count": null,
   "metadata": {},
   "outputs": [],
   "source": [
    "plt.hist(data = pokemon, x = 'speed', bins = 20);"
   ]
  },
  {
   "cell_type": "markdown",
   "metadata": {},
   "source": [
    "> Instead, a better way of making use of the bins parameter is to \n",
    "specify the bin boundaries explicitly. Here, I'll make use of numpy's\n",
    "\"arange\" function to create bins of size 5. The reason why I add the\n",
    "+5 to the second argument is that the values generated by arange will\n",
    "_not_ include the maximum value: only those strictly lower than the max.\n",
    "Adding +5 means that all values should be represented in the chart.\n",
    ">\n",
    "> This view of the data implies that the data is approximately unimodal,\n",
    "save for a bit of a dip in the 75 to 85 range."
   ]
  },
  {
   "cell_type": "code",
   "execution_count": null,
   "metadata": {},
   "outputs": [],
   "source": [
    "bins = np.arange(0, pokemon['speed'].max()+5, 5)\n",
    "plt.hist(data = pokemon, x = 'speed', bins = bins);"
   ]
  },
  {
   "cell_type": "markdown",
   "metadata": {},
   "source": [
    "> What if we try an extremely small bin size, like 1? On the one\n",
    "hand, this bin size is perhaps a bit too small, introducing a lot\n",
    "of noise in the plot. On the other hand, this shows that Pokémon\n",
    "\"speed\" statistics are usually divisible by five."
   ]
  },
  {
   "cell_type": "code",
   "execution_count": null,
   "metadata": {},
   "outputs": [],
   "source": [
    "bins = np.arange(0, pokemon['speed'].max()+1, 1)\n",
    "plt.hist(data = pokemon, x = 'speed', bins = bins);"
   ]
  },
  {
   "cell_type": "markdown",
   "metadata": {},
   "source": [
    "> Seaborn also has a function for creating histograms, \"distplot\".\n",
    "Unlike the countplot and hist functions seen before, the main argument\n",
    "taken by the function is just the pandas series containing all the data.\n",
    "You'll notice two things about this plot. First of all, the default bin\n",
    "count is larger than in matplotlib. Secondly, you'll notice that a line\n",
    "has been plotted over the bars, with the y-axis values very small\n",
    "proportions. This is a density curve estimate of the data distribution,\n",
    "such that the total area under the curve is equal to 1. If you're\n",
    "interested in this kind of plot, you can read up more about this in the\n",
    "extras at the end of the lesson."
   ]
  },
  {
   "cell_type": "code",
   "execution_count": null,
   "metadata": {},
   "outputs": [],
   "source": [
    "sb.distplot(pokemon['speed']);"
   ]
  },
  {
   "cell_type": "markdown",
   "metadata": {},
   "source": [
    "> You can turn off the density curve by setting the parameter\n",
    "`kde = False`. However, at this point, you're back to the basic\n",
    "histogram, and might as well just use matplotlib's hist function\n",
    "from the start."
   ]
  },
  {
   "cell_type": "code",
   "execution_count": null,
   "metadata": {},
   "outputs": [],
   "source": [
    "sb.distplot(pokemon['speed'], kde = False);"
   ]
  },
  {
   "cell_type": "markdown",
   "metadata": {},
   "source": [
    "## 3.11 Descriptive Statistics, Outliers, and Axis Limits\n",
    "\n",
    "### Main Points\n",
    "\n",
    "1. Setting axis limits for histograms.\n",
    "\n",
    "> Let's try creating another histogram of a different Pokémon attribute:\n",
    "height. The units for this variable are in meters. A plot of the statistic\n",
    "shows that it's fairly right-skewed, with fairly few points above 6 meters\n",
    "in value. It might be worth doing a zoom in of the main bulk of the data\n",
    "through the use of axis limits."
   ]
  },
  {
   "cell_type": "code",
   "execution_count": null,
   "metadata": {},
   "outputs": [],
   "source": [
    "bins = np.arange(0, pokemon['height'].max()+0.5, 0.5)\n",
    "plt.hist(data = pokemon, x = 'height', bins = bins);"
   ]
  },
  {
   "cell_type": "markdown",
   "metadata": {},
   "source": [
    "> We can use the matplotlib function \"xlim\" to set the upper and\n",
    "lower bounds of the bins that will be displayed in the plot. It takes\n",
    "as an argument a list or tuple of two values specifying these limits.\n",
    "In this case, I've set the axis limits from 0 to 6, and changed the\n",
    "bin size in anticipation of this reduced axis limit.\n",
    ">\n",
    "> In this case, there's not much additional illumination provided by\n",
    "the trimmed axis limits. Most Pokémon species are human-sized or\n",
    "smaller, with relatively few that tower larger."
   ]
  },
  {
   "cell_type": "code",
   "execution_count": null,
   "metadata": {},
   "outputs": [],
   "source": [
    "bins = np.arange(0, pokemon['height'].max()+0.2, 0.2)\n",
    "plt.hist(data = pokemon, x = 'height', bins = bins)\n",
    "plt.xlim((0,6));"
   ]
  },
  {
   "cell_type": "markdown",
   "metadata": {},
   "source": [
    "## 3.12 Scales and Transformations\n",
    "\n",
    "### Main Points\n",
    "\n",
    "1. Setting a scale using matplotlib.\n",
    "2. Setting tick marks and labels.\n",
    "\n",
    "> Last time we looked at height; what should we make of Pokémon\n",
    "weight? The units for this variable are in terms of kilograms. The\n",
    "histogram of this variable is even more skewed than the height\n",
    "histogram, with some species with value over 800 kilograms. Rather\n",
    "than trim the axis limits like before, we'll try an axis transform\n",
    "instead."
   ]
  },
  {
   "cell_type": "code",
   "execution_count": null,
   "metadata": {},
   "outputs": [],
   "source": [
    "bins = np.arange(0, pokemon['weight'].max()+40, 40)\n",
    "plt.hist(data = pokemon, x = 'weight', bins = bins);"
   ]
  },
  {
   "cell_type": "markdown",
   "metadata": {},
   "source": [
    "> Matplotlib's \"xscale\" function will do the trick. If we only\n",
    "add this line to the plotting code, we end up with a very\n",
    "odd-looking plot. The bar heights are still the same, but\n",
    "they're wide on the left and thin on the right. In order to\n",
    "get the plot more interpretable, we need to modify the bin\n",
    "boundaries and generate more informative axis ticks."
   ]
  },
  {
   "cell_type": "code",
   "execution_count": null,
   "metadata": {},
   "outputs": [],
   "source": [
    "bins = np.arange(0, pokemon['weight'].max()+40, 40)\n",
    "plt.hist(data = pokemon, x = 'weight', bins = bins)\n",
    "plt.xscale('log');"
   ]
  },
  {
   "cell_type": "markdown",
   "metadata": {},
   "source": [
    "> First, let's discuss the bins. The minimum weight is 0.1, and\n",
    "the maximum 999.9. The log of these values, base 10, are -1 and\n",
    "a hair under 3. Our bin edges will be 10 to the power of values\n",
    "between -1 and 3, so that they are evenly spaced after taking the\n",
    "logarithm. The plot is looking better now, showing a unimodal\n",
    "distribution, but the tick marks could be more interpretable."
   ]
  },
  {
   "cell_type": "code",
   "execution_count": null,
   "metadata": {},
   "outputs": [],
   "source": [
    "print(pokemon['weight'].min(), pokemon['weight'].max())"
   ]
  },
  {
   "cell_type": "code",
   "execution_count": null,
   "metadata": {},
   "outputs": [],
   "source": [
    "print(np.log10([pokemon['weight'].min(), pokemon['weight'].max()]))"
   ]
  },
  {
   "cell_type": "code",
   "execution_count": null,
   "metadata": {},
   "outputs": [],
   "source": [
    "bins = 10 ** np.arange(-1, 3.0+0.1, 0.1)\n",
    "plt.hist(data = pokemon, x = 'weight', bins = bins)\n",
    "plt.xscale('log');"
   ]
  },
  {
   "cell_type": "markdown",
   "metadata": {},
   "source": [
    "> We can start with writing out the given ticks, but we might want to add more.\n",
    "Here's where we need to do some hard-coding, since outside of\n",
    "the whole powers of ten, there aren't nice, evenly spaced intermediate\n",
    "values. We can still get close, however. A '3' is about halfway\n",
    "between consecutive powers of 10 on a log scale. Adding these values\n",
    "to our ticks list completes our exploratory plot. It's much easier to\n",
    "read that the most common weights are between 10 and 100 with these\n",
    "tick labels."
   ]
  },
  {
   "cell_type": "code",
   "execution_count": null,
   "metadata": {},
   "outputs": [],
   "source": [
    "bins = 10 ** np.arange(-1, 3.0+0.1, 0.1)\n",
    "ticks = [0.1, 0.3, 1, 3, 10, 30, 100, 300, 1000]\n",
    "labels = ['{}'.format(val) for val in ticks]\n",
    "\n",
    "plt.hist(data = pokemon, x = 'weight', bins = bins)\n",
    "plt.xscale('log')\n",
    "plt.xticks(ticks, labels);"
   ]
  },
  {
   "cell_type": "code",
   "execution_count": null,
   "metadata": {},
   "outputs": [],
   "source": []
  }
 ],
 "metadata": {
  "kernelspec": {
   "display_name": "Python 3",
   "language": "python",
   "name": "python3"
  },
  "language_info": {
   "codemirror_mode": {
    "name": "ipython",
    "version": 3
   },
   "file_extension": ".py",
   "mimetype": "text/x-python",
   "name": "python",
   "nbconvert_exporter": "python",
   "pygments_lexer": "ipython3",
   "version": "3.6.4"
  }
 },
 "nbformat": 4,
 "nbformat_minor": 2
}
