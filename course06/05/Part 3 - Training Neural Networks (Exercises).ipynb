{
 "cells": [
  {
   "cell_type": "markdown",
   "metadata": {},
   "source": [
    "# Training Neural Networks\n",
    "\n",
    "The network we built in the previous part isn't so smart, it doesn't know anything about our handwritten digits. Neural networks with non-linear activations work like universal function approximators. There is some function that maps your input to the output. For example, images of handwritten digits to class probabilities. The power of neural networks is that we can train them to approximate this function, and basically any function given enough data and compute time.\n",
    "\n",
    "<img src=\"assets/function_approx.png\" width=500px>\n",
    "\n",
    "At first the network is naive, it doesn't know the function mapping the inputs to the outputs. We train the network by showing it examples of real data, then adjusting the network parameters such that it approximates this function.\n",
    "\n",
    "To find these parameters, we need to know how poorly the network is predicting the real outputs. For this we calculate a **loss function** (also called the cost), a measure of our prediction error. For example, the mean squared loss is often used in regression and binary classification problems\n",
    "\n",
    "$$\n",
    "\\large \\ell = \\frac{1}{2n}\\sum_i^n{\\left(y_i - \\hat{y}_i\\right)^2}\n",
    "$$\n",
    "\n",
    "where $n$ is the number of training examples, $y_i$ are the true labels, and $\\hat{y}_i$ are the predicted labels.\n",
    "\n",
    "By minimizing this loss with respect to the network parameters, we can find configurations where the loss is at a minimum and the network is able to predict the correct labels with high accuracy. We find this minimum using a process called **gradient descent**. The gradient is the slope of the loss function and points in the direction of fastest change. To get to the minimum in the least amount of time, we then want to follow the gradient (downwards). You can think of this like descending a mountain by following the steepest slope to the base.\n",
    "\n",
    "<img src='assets/gradient_descent.png' width=350px>"
   ]
  },
  {
   "cell_type": "markdown",
   "metadata": {},
   "source": [
    "## Backpropagation\n",
    "\n",
    "For single layer networks, gradient descent is straightforward to implement. However, it's more complicated for deeper, multilayer neural networks like the one we've built. Complicated enough that it took about 30 years before researchers figured out how to train multilayer networks.\n",
    "\n",
    "Training multilayer networks is done through **backpropagation** which is really just an application of the chain rule from calculus. It's easiest to understand if we convert a two layer network into a graph representation.\n",
    "\n",
    "<img src='assets/backprop_diagram.png' width=550px>\n",
    "\n",
    "In the forward pass through the network, our data and operations go from bottom to top here. We pass the input $x$ through a linear transformation $L_1$ with weights $W_1$ and biases $b_1$. The output then goes through the sigmoid operation $S$ and another linear transformation $L_2$. Finally we calculate the loss $\\ell$. We use the loss as a measure of how bad the network's predictions are. The goal then is to adjust the weights and biases to minimize the loss.\n",
    "\n",
    "To train the weights with gradient descent, we propagate the gradient of the loss backwards through the network. Each operation has some gradient between the inputs and outputs. As we send the gradients backwards, we multiply the incoming gradient with the gradient for the operation. Mathematically, this is really just calculating the gradient of the loss with respect to the weights using the chain rule.\n",
    "\n",
    "$$\n",
    "\\large \\frac{\\partial \\ell}{\\partial W_1} = \\frac{\\partial L_1}{\\partial W_1} \\frac{\\partial S}{\\partial L_1} \\frac{\\partial L_2}{\\partial S} \\frac{\\partial \\ell}{\\partial L_2}\n",
    "$$\n",
    "\n",
    "**Note:** I'm glossing over a few details here that require some knowledge of vector calculus, but they aren't necessary to understand what's going on.\n",
    "\n",
    "We update our weights using this gradient with some learning rate $\\alpha$. \n",
    "\n",
    "$$\n",
    "\\large W^\\prime_1 = W_1 - \\alpha \\frac{\\partial \\ell}{\\partial W_1}\n",
    "$$\n",
    "\n",
    "The learning rate $\\alpha$ is set such that the weight update steps are small enough that the iterative method settles in a minimum."
   ]
  },
  {
   "cell_type": "markdown",
   "metadata": {},
   "source": [
    "## Losses in PyTorch\n",
    "\n",
    "Let's start by seeing how we calculate the loss with PyTorch. Through the `nn` module, PyTorch provides losses such as the cross-entropy loss (`nn.CrossEntropyLoss`). You'll usually see the loss assigned to `criterion`. As noted in the last part, with a classification problem such as MNIST, we're using the softmax function to predict class probabilities. With a softmax output, you want to use cross-entropy as the loss. To actually calculate the loss, you first define the criterion then pass in the output of your network and the correct labels.\n",
    "\n",
    "Something really important to note here. Looking at [the documentation for `nn.CrossEntropyLoss`](https://pytorch.org/docs/stable/nn.html#torch.nn.CrossEntropyLoss),\n",
    "\n",
    "> This criterion combines `nn.LogSoftmax()` and `nn.NLLLoss()` in one single class.\n",
    ">\n",
    "> The input is expected to contain scores for each class.\n",
    "\n",
    "This means we need to pass in the raw output of our network into the loss, not the output of the softmax function. This raw output is usually called the *logits* or *scores*. We use the logits because softmax gives you probabilities which will often be very close to zero or one but floating-point numbers can't accurately represent values near zero or one ([read more here](https://docs.python.org/3/tutorial/floatingpoint.html)). It's usually best to avoid doing calculations with probabilities, typically we use log-probabilities."
   ]
  },
  {
   "cell_type": "code",
   "metadata": {
    "ExecuteTime": {
     "end_time": "2025-07-25T13:25:28.925329Z",
     "start_time": "2025-07-25T13:25:27.811502Z"
    }
   },
   "source": [
    "import torch\n",
    "from torch import nn\n",
    "import torch.nn.functional as F\n",
    "from torchvision import datasets, transforms\n",
    "\n",
    "# Define a transform to normalize the data\n",
    "transform = transforms.Compose([transforms.ToTensor(),\n",
    "                                transforms.Normalize((0.5,), (0.5,)),\n",
    "                              ])\n",
    "# Download and load the training data\n",
    "trainset = datasets.MNIST('~/.pytorch/MNIST_data/', download=True, train=True, transform=transform)\n",
    "trainloader = torch.utils.data.DataLoader(trainset, batch_size=64, shuffle=True)"
   ],
   "outputs": [],
   "execution_count": 2
  },
  {
   "cell_type": "markdown",
   "metadata": {},
   "source": [
    "### Note\n",
    "If you haven't seen `nn.Sequential` yet, please finish the end of the Part 2 notebook."
   ]
  },
  {
   "cell_type": "code",
   "metadata": {
    "ExecuteTime": {
     "end_time": "2025-07-25T13:25:30.437530Z",
     "start_time": "2025-07-25T13:25:30.425309Z"
    }
   },
   "source": [
    "# Build a feed-forward network\n",
    "model = nn.Sequential(nn.Linear(784, 128),\n",
    "                      nn.ReLU(),\n",
    "                      nn.Linear(128, 64),\n",
    "                      nn.ReLU(),\n",
    "                      nn.Linear(64, 10))\n",
    "\n",
    "# Define the loss\n",
    "criterion = nn.CrossEntropyLoss()\n",
    "\n",
    "# Get our data\n",
    "images, labels = next(iter(trainloader))\n",
    "# Flatten images\n",
    "images = images.view(images.shape[0], -1)\n",
    "\n",
    "# Forward pass, get our logits\n",
    "logits = model(images)\n",
    "# Calculate the loss with the logits and the labels\n",
    "loss = criterion(logits, labels)\n",
    "\n",
    "print(loss)"
   ],
   "outputs": [
    {
     "name": "stdout",
     "output_type": "stream",
     "text": [
      "tensor(2.2944, grad_fn=<NllLossBackward0>)\n"
     ]
    }
   ],
   "execution_count": 3
  },
  {
   "cell_type": "markdown",
   "metadata": {},
   "source": [
    "In my experience it's more convenient to build the model with a log-softmax output using `nn.LogSoftmax` or `F.log_softmax` ([documentation](https://pytorch.org/docs/stable/nn.html#torch.nn.LogSoftmax)). Then you can get the actual probabilities by taking the exponential `torch.exp(output)`. With a log-softmax output, you want to use the negative log likelihood loss, `nn.NLLLoss` ([documentation](https://pytorch.org/docs/stable/nn.html#torch.nn.NLLLoss)).\n",
    "\n",
    ">**Exercise:** Build a model that returns the log-softmax as the output and calculate the loss using the negative log likelihood loss. Note that for `nn.LogSoftmax` and `F.log_softmax` you'll need to set the `dim` keyword argument appropriately. `dim=0` calculates softmax across the rows, so each column sums to 1, while `dim=1` calculates across the columns so each row sums to 1. Think about what you want the output to be and choose `dim` appropriately."
   ]
  },
  {
   "cell_type": "code",
   "metadata": {
    "ExecuteTime": {
     "end_time": "2025-07-25T13:26:18.405345Z",
     "start_time": "2025-07-25T13:26:18.399674Z"
    }
   },
   "source": [
    "# TODO: Build a feed-forward network\n",
    "model = nn.Sequential(nn.Linear(784, 128),\n",
    "                      nn.ReLU(),\n",
    "                      nn.Linear(128, 64),\n",
    "                      nn.ReLU(),\n",
    "                      nn.Linear(64, 10))\n",
    "\n",
    "# TODO: Define the loss\n",
    "\n",
    "# Define the loss\n",
    "criterion = nn.CrossEntropyLoss()\n",
    "\n",
    "### Run this to check your work\n",
    "# Get our data\n",
    "images, labels = next(iter(trainloader))\n",
    "# Flatten images\n",
    "images = images.view(images.shape[0], -1)\n",
    "\n",
    "# Forward pass, get our logits\n",
    "logits = model(images)\n",
    "# Calculate the loss with the logits and the labels\n",
    "loss = criterion(logits, labels)\n",
    "\n",
    "print(loss)"
   ],
   "outputs": [
    {
     "name": "stdout",
     "output_type": "stream",
     "text": [
      "tensor(2.3078, grad_fn=<NllLossBackward0>)\n"
     ]
    }
   ],
   "execution_count": 6
  },
  {
   "cell_type": "markdown",
   "metadata": {},
   "source": [
    "## Autograd\n",
    "\n",
    "Now that we know how to calculate a loss, how do we use it to perform backpropagation? Torch provides a module, `autograd`, for automatically calculating the gradients of tensors. We can use it to calculate the gradients of all our parameters with respect to the loss. Autograd works by keeping track of operations performed on tensors, then going backwards through those operations, calculating gradients along the way. To make sure PyTorch keeps track of operations on a tensor and calculates the gradients, you need to set `requires_grad = True` on a tensor. You can do this at creation with the `requires_grad` keyword, or at any time with `x.requires_grad_(True)`.\n",
    "\n",
    "You can turn off gradients for a block of code with the `torch.no_grad()` content:\n",
    "```python\n",
    "x = torch.zeros(1, requires_grad=True)\n",
    ">>> with torch.no_grad():\n",
    "...     y = x * 2\n",
    ">>> y.requires_grad\n",
    "False\n",
    "```\n",
    "\n",
    "Also, you can turn on or off gradients altogether with `torch.set_grad_enabled(True|False)`.\n",
    "\n",
    "The gradients are computed with respect to some variable `z` with `z.backward()`. This does a backward pass through the operations that created `z`."
   ]
  },
  {
   "cell_type": "code",
   "metadata": {
    "ExecuteTime": {
     "end_time": "2025-07-25T13:27:08.300162Z",
     "start_time": "2025-07-25T13:27:08.297176Z"
    }
   },
   "source": [
    "x = torch.randn(2,2, requires_grad=True)\n",
    "print(x)"
   ],
   "outputs": [
    {
     "name": "stdout",
     "output_type": "stream",
     "text": [
      "tensor([[-0.3436,  0.3672],\n",
      "        [-0.5511,  1.0128]], requires_grad=True)\n"
     ]
    }
   ],
   "execution_count": 13
  },
  {
   "cell_type": "code",
   "metadata": {
    "ExecuteTime": {
     "end_time": "2025-07-25T13:27:09.782775Z",
     "start_time": "2025-07-25T13:27:09.780069Z"
    }
   },
   "source": [
    "y = x**2\n",
    "print(y)"
   ],
   "outputs": [
    {
     "name": "stdout",
     "output_type": "stream",
     "text": [
      "tensor([[0.1180, 0.1349],\n",
      "        [0.3037, 1.0258]], grad_fn=<PowBackward0>)\n"
     ]
    }
   ],
   "execution_count": 14
  },
  {
   "cell_type": "markdown",
   "metadata": {},
   "source": [
    "Below we can see the operation that created `y`, a power operation `PowBackward0`."
   ]
  },
  {
   "cell_type": "code",
   "metadata": {
    "ExecuteTime": {
     "end_time": "2025-07-25T13:27:11.155942Z",
     "start_time": "2025-07-25T13:27:11.154443Z"
    }
   },
   "source": [
    "## grad_fn shows the function that generated this variable\n",
    "print(y.grad_fn)"
   ],
   "outputs": [
    {
     "name": "stdout",
     "output_type": "stream",
     "text": [
      "<PowBackward0 object at 0x33a7d1780>\n"
     ]
    }
   ],
   "execution_count": 15
  },
  {
   "cell_type": "markdown",
   "metadata": {},
   "source": [
    "The autgrad module keeps track of these operations and knows how to calculate the gradient for each one. In this way, it's able to calculate the gradients for a chain of operations, with respect to any one tensor. Let's reduce the tensor `y` to a scalar value, the mean."
   ]
  },
  {
   "cell_type": "code",
   "metadata": {
    "ExecuteTime": {
     "end_time": "2025-07-25T13:27:14.229183Z",
     "start_time": "2025-07-25T13:27:14.226299Z"
    }
   },
   "source": [
    "z = y.mean()\n",
    "print(z)"
   ],
   "outputs": [
    {
     "name": "stdout",
     "output_type": "stream",
     "text": [
      "tensor(0.3956, grad_fn=<MeanBackward0>)\n"
     ]
    }
   ],
   "execution_count": 16
  },
  {
   "cell_type": "markdown",
   "metadata": {},
   "source": [
    "You can check the gradients for `x` and `y` but they are empty currently."
   ]
  },
  {
   "cell_type": "code",
   "metadata": {
    "ExecuteTime": {
     "end_time": "2025-07-25T13:27:15.856766Z",
     "start_time": "2025-07-25T13:27:15.854623Z"
    }
   },
   "source": [
    "print(x.grad)"
   ],
   "outputs": [
    {
     "name": "stdout",
     "output_type": "stream",
     "text": [
      "None\n"
     ]
    }
   ],
   "execution_count": 17
  },
  {
   "cell_type": "markdown",
   "metadata": {},
   "source": [
    "To calculate the gradients, you need to run the `.backward` method on a Variable, `z` for example. This will calculate the gradient for `z` with respect to `x`\n",
    "\n",
    "$$\n",
    "\\frac{\\partial z}{\\partial x} = \\frac{\\partial}{\\partial x}\\left[\\frac{1}{n}\\sum_i^n x_i^2\\right] = \\frac{x}{2}\n",
    "$$"
   ]
  },
  {
   "cell_type": "code",
   "metadata": {
    "ExecuteTime": {
     "end_time": "2025-07-25T13:27:17.832789Z",
     "start_time": "2025-07-25T13:27:17.829464Z"
    }
   },
   "source": [
    "z.backward()\n",
    "print(x.grad)\n",
    "print(x/2)"
   ],
   "outputs": [
    {
     "name": "stdout",
     "output_type": "stream",
     "text": [
      "tensor([[-0.1718,  0.1836],\n",
      "        [-0.2755,  0.5064]])\n",
      "tensor([[-0.1718,  0.1836],\n",
      "        [-0.2755,  0.5064]], grad_fn=<DivBackward0>)\n"
     ]
    }
   ],
   "execution_count": 18
  },
  {
   "cell_type": "markdown",
   "metadata": {},
   "source": [
    "These gradients calculations are particularly useful for neural networks. For training we need the gradients of the weights with respect to the cost. With PyTorch, we run data forward through the network to calculate the loss, then, go backwards to calculate the gradients with respect to the loss. Once we have the gradients we can make a gradient descent step. "
   ]
  },
  {
   "cell_type": "markdown",
   "metadata": {},
   "source": [
    "## Loss and Autograd together\n",
    "\n",
    "When we create a network with PyTorch, all of the parameters are initialized with `requires_grad = True`. This means that when we calculate the loss and call `loss.backward()`, the gradients for the parameters are calculated. These gradients are used to update the weights with gradient descent. Below you can see an example of calculating the gradients using a backwards pass."
   ]
  },
  {
   "cell_type": "code",
   "metadata": {
    "ExecuteTime": {
     "end_time": "2025-07-25T13:28:00.851755Z",
     "start_time": "2025-07-25T13:28:00.843346Z"
    }
   },
   "source": [
    "# Build a feed-forward network\n",
    "model = nn.Sequential(nn.Linear(784, 128),\n",
    "                      nn.ReLU(),\n",
    "                      nn.Linear(128, 64),\n",
    "                      nn.ReLU(),\n",
    "                      nn.Linear(64, 10),\n",
    "                      nn.LogSoftmax(dim=1))\n",
    "\n",
    "criterion = nn.NLLLoss()\n",
    "images, labels = next(iter(trainloader))\n",
    "images = images.view(images.shape[0], -1)\n",
    "\n",
    "logits = model(images)\n",
    "loss = criterion(logits, labels)"
   ],
   "outputs": [],
   "execution_count": 19
  },
  {
   "cell_type": "code",
   "metadata": {
    "ExecuteTime": {
     "end_time": "2025-07-25T13:28:03.129105Z",
     "start_time": "2025-07-25T13:28:03.125605Z"
    }
   },
   "source": [
    "print('Before backward pass: \\n', model[0].weight.grad)\n",
    "\n",
    "loss.backward()\n",
    "\n",
    "print('After backward pass: \\n', model[0].weight.grad)"
   ],
   "outputs": [
    {
     "name": "stdout",
     "output_type": "stream",
     "text": [
      "Before backward pass: \n",
      " None\n",
      "After backward pass: \n",
      " tensor([[-8.6088e-05, -8.6088e-05, -8.6088e-05,  ..., -8.6088e-05,\n",
      "         -8.6088e-05, -8.6088e-05],\n",
      "        [ 4.9073e-04,  4.9073e-04,  4.9073e-04,  ...,  4.9073e-04,\n",
      "          4.9073e-04,  4.9073e-04],\n",
      "        [ 2.2767e-03,  2.2767e-03,  2.2767e-03,  ...,  2.2767e-03,\n",
      "          2.2767e-03,  2.2767e-03],\n",
      "        ...,\n",
      "        [-9.1688e-04, -9.1688e-04, -9.1688e-04,  ..., -9.1688e-04,\n",
      "         -9.1688e-04, -9.1688e-04],\n",
      "        [ 4.8571e-04,  4.8571e-04,  4.8571e-04,  ...,  4.8571e-04,\n",
      "          4.8571e-04,  4.8571e-04],\n",
      "        [ 6.2942e-04,  6.2942e-04,  6.2942e-04,  ...,  6.2942e-04,\n",
      "          6.2942e-04,  6.2942e-04]])\n"
     ]
    }
   ],
   "execution_count": 20
  },
  {
   "cell_type": "markdown",
   "metadata": {},
   "source": [
    "## Training the network!\n",
    "\n",
    "There's one last piece we need to start training, an optimizer that we'll use to update the weights with the gradients. We get these from PyTorch's [`optim` package](https://pytorch.org/docs/stable/optim.html). For example we can use stochastic gradient descent with `optim.SGD`. You can see how to define an optimizer below."
   ]
  },
  {
   "cell_type": "code",
   "metadata": {
    "ExecuteTime": {
     "end_time": "2025-07-25T13:28:09.952797Z",
     "start_time": "2025-07-25T13:28:09.951051Z"
    }
   },
   "source": [
    "from torch import optim\n",
    "\n",
    "# Optimizers require the parameters to optimize and a learning rate\n",
    "optimizer = optim.SGD(model.parameters(), lr=0.01)"
   ],
   "outputs": [],
   "execution_count": 21
  },
  {
   "cell_type": "markdown",
   "metadata": {},
   "source": [
    "Now we know how to use all the individual parts so it's time to see how they work together. Let's consider just one learning step before looping through all the data. The general process with PyTorch:\n",
    "\n",
    "* Make a forward pass through the network \n",
    "* Use the network output to calculate the loss\n",
    "* Perform a backward pass through the network with `loss.backward()` to calculate the gradients\n",
    "* Take a step with the optimizer to update the weights\n",
    "\n",
    "Below I'll go through one training step and print out the weights and gradients so you can see how it changes. Note that I have a line of code `optimizer.zero_grad()`. When you do multiple backwards passes with the same parameters, the gradients are accumulated. This means that you need to zero the gradients on each training pass or you'll retain gradients from previous training batches."
   ]
  },
  {
   "cell_type": "code",
   "metadata": {
    "ExecuteTime": {
     "end_time": "2025-07-25T13:28:16.736586Z",
     "start_time": "2025-07-25T13:28:16.730106Z"
    }
   },
   "source": [
    "print('Initial weights - ', model[0].weight)\n",
    "\n",
    "images, labels = next(iter(trainloader))\n",
    "images.resize_(64, 784)\n",
    "\n",
    "# Clear the gradients, do this because gradients are accumulated\n",
    "optimizer.zero_grad()\n",
    "\n",
    "# Forward pass, then backward pass, then update weights\n",
    "output = model.forward(images)\n",
    "loss = criterion(output, labels)\n",
    "loss.backward()\n",
    "print('Gradient -', model[0].weight.grad)"
   ],
   "outputs": [
    {
     "name": "stdout",
     "output_type": "stream",
     "text": [
      "Initial weights -  Parameter containing:\n",
      "tensor([[ 0.0186,  0.0170, -0.0192,  ..., -0.0188, -0.0296, -0.0088],\n",
      "        [ 0.0031, -0.0007,  0.0124,  ..., -0.0280,  0.0033, -0.0063],\n",
      "        [ 0.0132,  0.0247,  0.0194,  ...,  0.0039, -0.0315, -0.0102],\n",
      "        ...,\n",
      "        [-0.0125, -0.0356,  0.0169,  ..., -0.0217,  0.0249, -0.0265],\n",
      "        [ 0.0137,  0.0166,  0.0053,  ...,  0.0260, -0.0312, -0.0053],\n",
      "        [ 0.0152, -0.0111, -0.0031,  ..., -0.0299,  0.0078,  0.0349]],\n",
      "       requires_grad=True)\n",
      "Gradient - tensor([[1.1865e-04, 1.1865e-04, 1.1865e-04,  ..., 1.1865e-04, 1.1865e-04,\n",
      "         1.1865e-04],\n",
      "        [1.1156e-03, 1.1156e-03, 1.1156e-03,  ..., 1.1156e-03, 1.1156e-03,\n",
      "         1.1156e-03],\n",
      "        [5.1102e-03, 5.1102e-03, 5.1102e-03,  ..., 5.1102e-03, 5.1102e-03,\n",
      "         5.1102e-03],\n",
      "        ...,\n",
      "        [1.0847e-03, 1.0847e-03, 1.0847e-03,  ..., 1.0847e-03, 1.0847e-03,\n",
      "         1.0847e-03],\n",
      "        [5.3053e-04, 5.3053e-04, 5.3053e-04,  ..., 5.3053e-04, 5.3053e-04,\n",
      "         5.3053e-04],\n",
      "        [4.6354e-05, 4.6354e-05, 4.6354e-05,  ..., 4.6354e-05, 4.6354e-05,\n",
      "         4.6354e-05]])\n"
     ]
    }
   ],
   "execution_count": 22
  },
  {
   "cell_type": "code",
   "metadata": {
    "ExecuteTime": {
     "end_time": "2025-07-25T13:28:19.998327Z",
     "start_time": "2025-07-25T13:28:19.994860Z"
    }
   },
   "source": [
    "# Take an update step and few the new weights\n",
    "optimizer.step()\n",
    "print('Updated weights - ', model[0].weight)"
   ],
   "outputs": [
    {
     "name": "stdout",
     "output_type": "stream",
     "text": [
      "Updated weights -  Parameter containing:\n",
      "tensor([[ 0.0186,  0.0170, -0.0192,  ..., -0.0188, -0.0297, -0.0088],\n",
      "        [ 0.0031, -0.0007,  0.0124,  ..., -0.0280,  0.0033, -0.0063],\n",
      "        [ 0.0131,  0.0246,  0.0193,  ...,  0.0039, -0.0316, -0.0103],\n",
      "        ...,\n",
      "        [-0.0125, -0.0356,  0.0169,  ..., -0.0217,  0.0249, -0.0265],\n",
      "        [ 0.0137,  0.0166,  0.0053,  ...,  0.0260, -0.0312, -0.0054],\n",
      "        [ 0.0152, -0.0111, -0.0031,  ..., -0.0299,  0.0078,  0.0349]],\n",
      "       requires_grad=True)\n"
     ]
    }
   ],
   "execution_count": 23
  },
  {
   "cell_type": "markdown",
   "metadata": {},
   "source": [
    "### Training for real\n",
    "\n",
    "Now we'll put this algorithm into a loop so we can go through all the images. Some nomenclature, one pass through the entire dataset is called an *epoch*. So here we're going to loop through `trainloader` to get our training batches. For each batch, we'll doing a training pass where we calculate the loss, do a backwards pass, and update the weights.\n",
    "\n",
    ">**Exercise:** Implement the training pass for our network. If you implemented it correctly, you should see the training loss drop with each epoch."
   ]
  },
  {
   "cell_type": "code",
   "metadata": {
    "ExecuteTime": {
     "end_time": "2025-07-26T09:16:19.264125Z",
     "start_time": "2025-07-26T09:10:41.252490Z"
    }
   },
   "source": [
    "## Your solution here\n",
    "\n",
    "model = nn.Sequential(nn.Linear(784, 128),\n",
    "                      nn.ReLU(),\n",
    "                      nn.Linear(128, 64),\n",
    "                      nn.ReLU(),\n",
    "                      nn.Linear(64, 10),\n",
    "                      nn.LogSoftmax(dim=1))\n",
    "\n",
    "criterion = nn.NLLLoss()\n",
    "optimizer = optim.SGD(model.parameters(), lr=0.003)\n",
    "\n",
    "epochs = 180\n",
    "for e in range(epochs):\n",
    "    running_loss = 0\n",
    "    for images, labels in trainloader:\n",
    "        # Flatten MNIST images into a 784 long vector\n",
    "        images = images.view(images.shape[0], -1)\n",
    "    \n",
    "        # TODO: Training pass\n",
    "        optimizer.zero_grad()\n",
    "\n",
    "        output = model.forward(images)\n",
    "        loss = criterion(output, labels)\n",
    "        loss.backward()\n",
    "        optimizer.step()\n",
    "        \n",
    "        running_loss += loss.item()\n",
    "    else:\n",
    "        print(f\"Training loss: {running_loss/len(trainloader)}\")"
   ],
   "outputs": [
    {
     "name": "stdout",
     "output_type": "stream",
     "text": [
      "Training loss: 1.931538663947506\n",
      "Training loss: 0.8697131992911479\n",
      "Training loss: 0.528401104022445\n",
      "Training loss: 0.43442171392664475\n",
      "Training loss: 0.3889584732112854\n",
      "Training loss: 0.3623385157412303\n",
      "Training loss: 0.34319203541572413\n",
      "Training loss: 0.3283998954699619\n",
      "Training loss: 0.3161023702226214\n",
      "Training loss: 0.30581007244935166\n",
      "Training loss: 0.2966631765225167\n",
      "Training loss: 0.2884790066804395\n",
      "Training loss: 0.2809527083627705\n",
      "Training loss: 0.273508897579428\n",
      "Training loss: 0.2665206440714504\n",
      "Training loss: 0.2596667874326457\n",
      "Training loss: 0.2530437024639868\n",
      "Training loss: 0.2471157241302894\n",
      "Training loss: 0.24096972221282245\n",
      "Training loss: 0.23489949779946412\n",
      "Training loss: 0.22929590467864008\n",
      "Training loss: 0.223507101395364\n",
      "Training loss: 0.21800225405995524\n",
      "Training loss: 0.21282818933714553\n",
      "Training loss: 0.20759165175020822\n",
      "Training loss: 0.20230412713563772\n",
      "Training loss: 0.19755079829966082\n",
      "Training loss: 0.19275299837387827\n",
      "Training loss: 0.1881401762088288\n",
      "Training loss: 0.18376771656117205\n",
      "Training loss: 0.17953162034278486\n",
      "Training loss: 0.17542119588313707\n",
      "Training loss: 0.17114955725779793\n",
      "Training loss: 0.16755208660012433\n",
      "Training loss: 0.1638230524842006\n",
      "Training loss: 0.16011238605705405\n",
      "Training loss: 0.15691569805153208\n",
      "Training loss: 0.15348442998935163\n",
      "Training loss: 0.15007410350956643\n",
      "Training loss: 0.14711308712040438\n",
      "Training loss: 0.1439258141228671\n",
      "Training loss: 0.14093711707931655\n",
      "Training loss: 0.13828259742836643\n",
      "Training loss: 0.13527522740492434\n",
      "Training loss: 0.1326015644879547\n",
      "Training loss: 0.1299021815472066\n",
      "Training loss: 0.12754936441024547\n",
      "Training loss: 0.12491369272357841\n",
      "Training loss: 0.12276785473412732\n",
      "Training loss: 0.12019882084670733\n",
      "Training loss: 0.1181822222754804\n",
      "Training loss: 0.11602865083456866\n",
      "Training loss: 0.11365250764148575\n",
      "Training loss: 0.11196846544925275\n",
      "Training loss: 0.10989542673431289\n",
      "Training loss: 0.10798333693883502\n",
      "Training loss: 0.10598772049927191\n",
      "Training loss: 0.10413702529892802\n",
      "Training loss: 0.10240819694390937\n",
      "Training loss: 0.10067011102207943\n",
      "Training loss: 0.09886579351948459\n",
      "Training loss: 0.09751306589184476\n",
      "Training loss: 0.09573133566728564\n",
      "Training loss: 0.09435605502196912\n",
      "Training loss: 0.09305933729977782\n",
      "Training loss: 0.09146736797564892\n",
      "Training loss: 0.09011769094673205\n",
      "Training loss: 0.08858670703252591\n",
      "Training loss: 0.08723063589329881\n",
      "Training loss: 0.08580963758787494\n",
      "Training loss: 0.08467996233442762\n",
      "Training loss: 0.0832835898594633\n",
      "Training loss: 0.08197713591384767\n",
      "Training loss: 0.08068536853354209\n",
      "Training loss: 0.07985260841081232\n",
      "Training loss: 0.07861462000386119\n",
      "Training loss: 0.0774645306118357\n",
      "Training loss: 0.07647552538607548\n",
      "Training loss: 0.07520089928966278\n",
      "Training loss: 0.07443302739332162\n",
      "Training loss: 0.07339841880545671\n",
      "Training loss: 0.07227592560738674\n",
      "Training loss: 0.07131023949055847\n",
      "Training loss: 0.07036424190330226\n",
      "Training loss: 0.06932515354414008\n",
      "Training loss: 0.06838324381860653\n",
      "Training loss: 0.06771138582382598\n",
      "Training loss: 0.06674141429070789\n",
      "Training loss: 0.06590587627400817\n",
      "Training loss: 0.06481033422426184\n",
      "Training loss: 0.06412559616784536\n",
      "Training loss: 0.0634099532346696\n",
      "Training loss: 0.06254587306388851\n",
      "Training loss: 0.06170583103693077\n",
      "Training loss: 0.06087289928003892\n",
      "Training loss: 0.060351163032216465\n",
      "Training loss: 0.05952254405120082\n",
      "Training loss: 0.0586907470480664\n",
      "Training loss: 0.05808755134824099\n",
      "Training loss: 0.05725527155463264\n",
      "Training loss: 0.056557539499986334\n",
      "Training loss: 0.0558660276743498\n",
      "Training loss: 0.0552797313583002\n",
      "Training loss: 0.05466071162660763\n",
      "Training loss: 0.05396648782537754\n",
      "Training loss: 0.05351850954589368\n",
      "Training loss: 0.05274835176346923\n",
      "Training loss: 0.052053755265412366\n",
      "Training loss: 0.051399362703928274\n",
      "Training loss: 0.05078415095464571\n",
      "Training loss: 0.050316416765195826\n",
      "Training loss: 0.04968866893027756\n",
      "Training loss: 0.049221932246133304\n",
      "Training loss: 0.04853696455118626\n",
      "Training loss: 0.04809504327203419\n",
      "Training loss: 0.04745363780875196\n",
      "Training loss: 0.04706216944398474\n",
      "Training loss: 0.046391769114987\n",
      "Training loss: 0.04594520974193396\n",
      "Training loss: 0.04547404746082165\n",
      "Training loss: 0.04472676118332416\n",
      "Training loss: 0.04437196864111067\n",
      "Training loss: 0.04378721410674708\n",
      "Training loss: 0.04333831700853813\n",
      "Training loss: 0.0428973542933942\n",
      "Training loss: 0.0425186917674281\n",
      "Training loss: 0.041952276403562964\n",
      "Training loss: 0.041548895766523715\n",
      "Training loss: 0.04105373655931393\n",
      "Training loss: 0.04072348890316758\n",
      "Training loss: 0.04028324338335441\n",
      "Training loss: 0.03997352949382344\n",
      "Training loss: 0.039386686803931904\n",
      "Training loss: 0.038903002985127604\n",
      "Training loss: 0.03856455544203417\n",
      "Training loss: 0.03815853121707331\n",
      "Training loss: 0.03763901321406065\n",
      "Training loss: 0.03726516194643576\n",
      "Training loss: 0.03694002307615857\n",
      "Training loss: 0.03642259799102857\n",
      "Training loss: 0.036009527909418526\n",
      "Training loss: 0.03581696559242142\n",
      "Training loss: 0.0355097933166992\n",
      "Training loss: 0.035062181200387316\n",
      "Training loss: 0.03475610223407152\n",
      "Training loss: 0.03441981531814662\n",
      "Training loss: 0.03397887374293297\n",
      "Training loss: 0.033731255514387375\n",
      "Training loss: 0.03326868465200547\n",
      "Training loss: 0.032798898856598396\n",
      "Training loss: 0.03245857875269931\n",
      "Training loss: 0.03223583115481222\n",
      "Training loss: 0.031808428226291006\n",
      "Training loss: 0.03150947680456071\n",
      "Training loss: 0.03116966704545078\n",
      "Training loss: 0.030966125371958267\n",
      "Training loss: 0.03067967241857328\n",
      "Training loss: 0.030222658175545168\n",
      "Training loss: 0.029928296599398132\n",
      "Training loss: 0.029551133480685544\n",
      "Training loss: 0.029339919492765182\n",
      "Training loss: 0.02913659526609075\n",
      "Training loss: 0.028693410980233203\n",
      "Training loss: 0.028503313555003903\n",
      "Training loss: 0.028115517980203644\n",
      "Training loss: 0.027900591930141175\n",
      "Training loss: 0.02747449218935923\n",
      "Training loss: 0.027319815029938226\n",
      "Training loss: 0.027089778152577428\n",
      "Training loss: 0.02684892990677528\n",
      "Training loss: 0.026475159173979284\n",
      "Training loss: 0.026253405058367263\n",
      "Training loss: 0.025921875766829958\n",
      "Training loss: 0.02564031280577679\n",
      "Training loss: 0.02546293858544472\n",
      "Training loss: 0.025185821484699885\n",
      "Training loss: 0.024882562023260866\n",
      "Training loss: 0.02468328196123473\n",
      "Training loss: 0.024326849709089195\n",
      "Training loss: 0.024110958580228527\n"
     ]
    }
   ],
   "execution_count": 47
  },
  {
   "cell_type": "markdown",
   "metadata": {},
   "source": [
    "With the network trained, we can check out it's predictions."
   ]
  },
  {
   "cell_type": "code",
   "metadata": {
    "ExecuteTime": {
     "end_time": "2025-07-26T10:22:54.617317Z",
     "start_time": "2025-07-26T10:22:54.559297Z"
    }
   },
   "source": [
    "%matplotlib inline\n",
    "import helper\n",
    "\n",
    "images, labels = next(iter(trainloader))\n",
    "\n",
    "img = images[0].view(1, 784)\n",
    "# Turn off gradients to speed up this part\n",
    "with torch.no_grad():\n",
    "    logits = model.forward(img)\n",
    "\n",
    "# Output of the network are logits, need to take softmax for probabilities\n",
    "ps = F.softmax(logits, dim=1)\n",
    "print(logits)\n",
    "helper.view_classify(img.view(1, 28, 28), ps)"
   ],
   "outputs": [
    {
     "name": "stdout",
     "output_type": "stream",
     "text": [
      "tensor([[-1.4758e+01, -2.8658e+01, -1.6001e+01, -1.6437e+01, -1.7854e+01,\n",
      "         -1.7068e+01, -2.5151e+01, -1.4177e+01, -1.5025e+01, -1.5497e-06]])\n"
     ]
    },
    {
     "data": {
      "text/plain": [
       "<Figure size 600x900 with 2 Axes>"
      ],
      "image/png": "[encoded data removed]"
     },
     "metadata": {},
     "output_type": "display_data"
    }
   ],
   "execution_count": 101
  },
  {
   "cell_type": "markdown",
   "metadata": {},
   "source": [
    "import torch\n",
    "from torch import nn\n",
    "import torch.onnx\n",
    "\n",
    "# 1. Definiere oder lade dein PyTorch-Modell\n",
    "#    Ich nehme hier exakt das Modell aus deinem Notebook.\n",
    "model = nn.Sequential(nn.Linear(784, 128),\n",
    "                      nn.ReLU(),\n",
    "                      nn.Linear(128, 64),\n",
    "                      nn.ReLU(),\n",
    "                      nn.Linear(64, 10),\n",
    "                      nn.LogSoftmax(dim=1))\n",
    "\n",
    "# Optional: Lade trainierte Gewichte, falls du welche hast.\n",
    "# Für die reine Visualisierung der Architektur ist das aber nicht nötig.\n",
    "# model.load_state_dict(torch.load('dein_modell.pth'))\n",
    "\n",
    "# Stelle sicher, dass das Modell im Evaluationsmodus ist\n",
    "model.eval()\n",
    "\n",
    "# 2. Erstelle einen \"Dummy-Input\"\n",
    "#    Dieser Tensor muss genau die Form haben, die dein Modell als Input erwartet.\n",
    "#    Batch-Größe: 1, Features: 784 (da 28x28 Bilder)\n",
    "dummy_input = torch.randn(1, 784)\n",
    "\n",
    "# 3. Exportiere das Modell in das ONNX-Format\n",
    "torch.onnx.export(\n",
    "    model,                          # Das Modell, das du exportieren willst\n",
    "    dummy_input,                    # Der Dummy-Input zum \"Tracen\" des Graphen\n",
    "    \"mnist_model.onnx\",             # Der Dateiname für den Output\n",
    "    input_names=[\"input\"],          # (Optional) Namen für die Input-Knoten im Graphen\n",
    "    output_names=[\"output\"],        # (Optional) Namen für die Output-Knoten\n",
    "    opset_version=11                # (Optional) Eine ONNX-Version, 11 ist eine gute Wahl\n",
    ")\n",
    "\n",
    "print(\"Modell wurde erfolgreich als 'mnist_model.onnx' gespeichert!\")\n",
    "print(\"Du kannst diese Datei jetzt mit Netron öffnen.\")Now our network is brilliant. It can accurately predict the digits in our images. Next up you'll write the code for training a neural network on a more complex dataset."
   ]
  },
  {
   "metadata": {
    "ExecuteTime": {
     "end_time": "2025-07-26T10:27:19.661314Z",
     "start_time": "2025-07-26T10:27:19.152435Z"
    }
   },
   "cell_type": "code",
   "source": [
    "import torch\n",
    "from torch import nn\n",
    "import torch.onnx\n",
    "\n",
    "# 1. Definiere oder lade dein PyTorch-Modell\n",
    "#    Ich nehme hier exakt das Modell aus deinem Notebook.\n",
    "model = nn.Sequential(nn.Linear(784, 128),\n",
    "                      nn.ReLU(),\n",
    "                      nn.Linear(128, 64),\n",
    "                      nn.ReLU(),\n",
    "                      nn.Linear(64, 10),\n",
    "                      nn.LogSoftmax(dim=1))\n",
    "\n",
    "# Optional: Lade trainierte Gewichte, falls du welche hast.\n",
    "# Für die reine Visualisierung der Architektur ist das aber nicht nötig.\n",
    "# model.load_state_dict(torch.load('dein_modell.pth'))\n",
    "\n",
    "# Stelle sicher, dass das Modell im Evaluationsmodus ist\n",
    "model.eval()\n",
    "\n",
    "# 2. Erstelle einen \"Dummy-Input\"\n",
    "#    Dieser Tensor muss genau die Form haben, die dein Modell als Input erwartet.\n",
    "#    Batch-Größe: 1, Features: 784 (da 28x28 Bilder)\n",
    "dummy_input = torch.randn(1, 784)\n",
    "\n",
    "# 3. Exportiere das Modell in das ONNX-Format\n",
    "torch.onnx.export(\n",
    "    model,                          # Das Modell, das du exportieren willst\n",
    "    dummy_input,                    # Der Dummy-Input zum \"Tracen\" des Graphen\n",
    "    \"mnist_model.onnx\",             # Der Dateiname für den Output\n",
    "    input_names=[\"input\"],          # (Optional) Namen für die Input-Knoten im Graphen\n",
    "    output_names=[\"output\"],        # (Optional) Namen für die Output-Knoten\n",
    "    opset_version=11                # (Optional) Eine ONNX-Version, 11 ist eine gute Wahl\n",
    ")\n",
    "\n",
    "print(\"Modell wurde erfolgreich als 'mnist_model.onnx' gespeichert!\")\n",
    "print(\"Du kannst diese Datei jetzt mit Netron öffnen.\")"
   ],
   "outputs": [
    {
     "name": "stdout",
     "output_type": "stream",
     "text": [
      "Modell wurde erfolgreich als 'mnist_model.onnx' gespeichert!\n",
      "Du kannst diese Datei jetzt mit Netron öffnen.\n"
     ]
    }
   ],
   "execution_count": 103
  }
 ],
 "metadata": {
  "kernelspec": {
   "display_name": "Python 3 (ipykernel)",
   "language": "python",
   "name": "python3"
  },
  "language_info": {
   "codemirror_mode": {
    "name": "ipython",
    "version": 3
   },
   "file_extension": ".py",
   "mimetype": "text/x-python",
   "name": "python",
   "nbconvert_exporter": "python",
   "pygments_lexer": "ipython3",
   "version": "3.10.11"
  }
 },
 "nbformat": 4,
 "nbformat_minor": 2
}
