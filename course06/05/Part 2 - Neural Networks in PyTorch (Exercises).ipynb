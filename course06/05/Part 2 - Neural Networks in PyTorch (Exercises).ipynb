{
 "cells": [
  {
   "cell_type": "markdown",
   "metadata": {},
   "source": [
    "# Neural networks with PyTorch\n",
    "\n",
    "Deep learning networks tend to be massive with dozens or hundreds of layers, that's where the term \"deep\" comes from. You can build one of these deep networks using only weight matrices as we did in the previous notebook, but in general it's very cumbersome and difficult to implement. PyTorch has a nice module `nn` that provides a nice way to efficiently build large neural networks."
   ]
  },
  {
   "cell_type": "code",
   "metadata": {
    "ExecuteTime": {
     "end_time": "2025-07-25T11:54:00.503891Z",
     "start_time": "2025-07-25T11:53:57.959207Z"
    }
   },
   "source": [
    "# Import necessary packages\n",
    "\n",
    "%matplotlib inline\n",
    "%config InlineBackend.figure_format = 'retina'\n",
    "\n",
    "import numpy as np\n",
    "import torch\n",
    "\n",
    "import helper\n",
    "\n",
    "import matplotlib.pyplot as plt"
   ],
   "outputs": [],
   "execution_count": 4
  },
  {
   "cell_type": "markdown",
   "metadata": {},
   "source": [
    "\n",
    "Now we're going to build a larger network that can solve a (formerly) difficult problem, identifying text in an image. Here we'll use the MNIST dataset which consists of greyscale handwritten digits. Each image is 28x28 pixels, you can see a sample below\n",
    "\n",
    "<img src='assets/mnist.png'>\n",
    "\n",
    "Our goal is to build a neural network that can take one of these images and predict the digit in the image.\n",
    "\n",
    "First up, we need to get our dataset. This is provided through the `torchvision` package. The code below will download the MNIST dataset, then create training and test datasets for us. Don't worry too much about the details here, you'll learn more about this later."
   ]
  },
  {
   "cell_type": "code",
   "metadata": {
    "ExecuteTime": {
     "end_time": "2025-07-25T11:54:03.686748Z",
     "start_time": "2025-07-25T11:54:02.827857Z"
    }
   },
   "source": [
    "### Run this cell\n",
    "\n",
    "from torchvision import datasets, transforms\n",
    "\n",
    "# Define a transform to normalize the data\n",
    "transform = transforms.Compose([transforms.ToTensor(), transforms.Normalize((0.5,), (0.5,)), ])\n",
    "\n",
    "# Download and load the training data\n",
    "trainset = datasets.MNIST('~/.pytorch/MNIST_data/', download=True, train=True, transform=transform)\n",
    "trainloader = torch.utils.data.DataLoader(trainset, batch_size=64, shuffle=True)"
   ],
   "outputs": [],
   "execution_count": 5
  },
  {
   "cell_type": "markdown",
   "metadata": {},
   "source": [
    "We have the training data loaded into `trainloader` and we make that an iterator with `iter(trainloader)`. Later, we'll use this to loop through the dataset for training, like\n",
    "\n",
    "```python\n",
    "for image, label in trainloader:\n",
    "    ## do things with images and labels\n",
    "```\n",
    "\n",
    "You'll notice I created the `trainloader` with a batch size of 64, and `shuffle=True`. The batch size is the number of images we get in one iteration from the data loader and pass through our network, often called a *batch*. And `shuffle=True` tells it to shuffle the dataset every time we start going through the data loader again. But here I'm just grabbing the first batch so we can check out the data. We can see below that `images` is just a tensor with size `(64, 1, 28, 28)`. So, 64 images per batch, 1 color channel, and 28x28 images."
   ]
  },
  {
   "cell_type": "code",
   "metadata": {
    "ExecuteTime": {
     "end_time": "2025-07-25T11:54:11.230020Z",
     "start_time": "2025-07-25T11:54:11.222812Z"
    }
   },
   "source": [
    "dataiter = iter(trainloader)\n",
    "images, labels = next(dataiter)\n",
    "print(type(images))\n",
    "print(images.shape)\n",
    "print(labels.shape)"
   ],
   "outputs": [
    {
     "name": "stdout",
     "output_type": "stream",
     "text": [
      "<class 'torch.Tensor'>\n",
      "torch.Size([64, 1, 28, 28])\n",
      "torch.Size([64])\n"
     ]
    }
   ],
   "execution_count": 6
  },
  {
   "cell_type": "markdown",
   "metadata": {},
   "source": [
    "This is what one of the images looks like. "
   ]
  },
  {
   "cell_type": "code",
   "metadata": {
    "ExecuteTime": {
     "end_time": "2025-07-25T11:54:13.613961Z",
     "start_time": "2025-07-25T11:54:13.529881Z"
    }
   },
   "source": [
    "plt.imshow(images[0].numpy().squeeze(), cmap='Greys_r');"
   ],
   "outputs": [
    {
     "data": {
      "text/plain": [
       "<Figure size 640x480 with 1 Axes>"
      ],
      "image/png": "[encoded data removed]"
     },
     "metadata": {
      "image/png": {
       "width": 416,
       "height": 413
      }
     },
     "output_type": "display_data"
    }
   ],
   "execution_count": 7
  },
  {
   "cell_type": "markdown",
   "metadata": {},
   "source": [
    "First, let's try to build a simple network for this dataset using weight matrices and matrix multiplications. Then, we'll see how to do it using PyTorch's `nn` module which provides a much more convenient and powerful method for defining network architectures.\n",
    "\n",
    "The networks you've seen so far are called *fully-connected* or *dense* networks. Each unit in one layer is connected to each unit in the next layer. In fully-connected networks, the input to each layer must be a one-dimensional vector (which can be stacked into a 2D tensor as a batch of multiple examples). However, our images are 28x28 2D tensors, so we need to convert them into 1D vectors. Thinking about sizes, we need to convert the batch of images with shape `(64, 1, 28, 28)` to a have a shape of `(64, 784)`, 784 is 28 times 28. This is typically called *flattening*, we flattened the 2D images into 1D vectors.\n",
    "\n",
    "Previously you built a network with one output unit. Here we need 10 output units, one for each digit. We want our network to predict the digit shown in an image, so what we'll do is calculate probabilities that the image is of any one digit or class. This ends up being a discrete probability distribution over the classes (digits) that tells us the most likely class for the image. That means we need 10 output units for the 10 classes (digits). We'll see how to convert the network output into a probability distribution next.\n",
    "\n",
    "> **Exercise:** Flatten the batch of images `images`. Then build a multi-layer network with 784 input units, 256 hidden units, and 10 output units using random tensors for the weights and biases. For now, use a sigmoid activation for the hidden layer. Leave the output layer without an activation, we'll add one that gives us a probability distribution next."
   ]
  },
  {
   "metadata": {},
   "cell_type": "markdown",
   "source": [
    "Here's what you need to do:\n",
    "\n",
    "Define Weights and Biases:\n",
    "\n",
    "Input to Hidden Layer: Create a weight matrix (W1) with dimensions (784, 256) and a bias vector (b1) with dimensions (256). Initialize these with random values using torch.randn (for better performance in neural networks) or torch.rand.\n",
    "\n",
    "Hidden to Output Layer: Create a weight matrix (W2) with dimensions (256, 10) and a bias vector (b2) with dimensions (10). Initialize these similarly.\n",
    "\n",
    "Calculate Hidden Layer Output:\n",
    "\n",
    "Inside your loop, after flattening image to flat, calculate the hidden layer output. This involves a matrix multiplication of flat with W1 and then adding b1.\n",
    "\n",
    "Apply the sigmoid activation function to this result.\n",
    "\n",
    "Calculate Output Layer Output:\n",
    "\n",
    "Take the activated hidden layer output, perform a matrix multiplication with W2, and add b2.\n",
    "\n",
    "Do not apply any activation function to this final output layer, as specified in the exercise.\n",
    "\n",
    "This will build the \"multi-layer network with 784 input units, 256 hidden units, and 10 output units\" as requested. You'll then have the out tensor representing the raw scores (logits) for each of the 10 classes."
   ]
  },
  {
   "cell_type": "code",
   "metadata": {
    "ExecuteTime": {
     "end_time": "2025-07-25T11:54:16.198212Z",
     "start_time": "2025-07-25T11:54:16.192869Z"
    }
   },
   "source": [
    "## Your solution\n",
    "# print(len(images))\n",
    "# print(images[0].shape)\n",
    "#\n",
    "#\n",
    "#\n",
    "# b1 = torch.randn((256,1))\n",
    "# b2 = torch.randn((10,1))\n",
    "# print(f\"b1: {b1.shape}\")\n",
    "# print(f\"b2: {b2.shape}\")\n",
    "# w1 = torch.rand(256,1)\n",
    "# print(f\"w1: {w1.shape}\")\n",
    "# w2 = torch.rand(256,10)\n",
    "# print(f\"w2: {w2.shape}\")\n",
    "#\n",
    "\n",
    "\n",
    "# print()\n",
    "# print(flat.shape)\n",
    "#\n",
    "# for image, label in trainloader:\n",
    "#     print(image.shape)\n",
    "#     h1 = flat @ w1 + b1\n",
    "#     y1 = torch.sigmoid(h1)\n",
    "#     y2 = y1 @ w2 + b2\n",
    "#\n",
    "#\n",
    "## Solution\n",
    "\n",
    "# Flatten the input images\n",
    "print(images.shape[0])\n",
    "\n",
    "# Das -1 in inputs = images.view(images.shape[0], -1) ist ein Platzhalter.\n",
    "#\n",
    "# In PyTorch's view()-Methode (und auch in NumPy's reshape()-Methode) bedeutet -1, dass die Größe dieser Dimension automatisch vom System berechnet werden soll, basierend auf der Gesamtanzahl der Elemente im Tensor und den anderen angegebenen Dimensionen.\n",
    "#\n",
    "# Hier ist, was es in deinem Kontext bewirkt:\n",
    "#\n",
    "# images.shape[0]: Dies ist die Batch-Größe (die Anzahl der Bilder in deinem aktuellen Stapel). Diese Dimension wird beibehalten.\n",
    "#\n",
    "# -1: Alle verbleibenden Dimensionen (Höhe, Breite, Kanäle, falls vorhanden) werden zu einer einzigen Dimension zusammengefasst (geglättet).\n",
    "#\n",
    "# Wenn du beispielsweise images mit der Form (64, 1, 28, 28) hast (64 Bilder, 1 Kanal, 28x28 Pixel), dann:\n",
    "#\n",
    "# images.shape[0] ist 64.\n",
    "#\n",
    "# Das -1 sorgt dafür, dass die restlichen Dimensionen 1 * 28 * 28 = 784 ergeben.\n",
    "#\n",
    "# Das Ergebnis ist ein Tensor inputs mit der Form (64, 784). Es ist eine sehr bequeme Art, Bilder für vollständig verbundene Schichten (die einen flachen Vektor als Eingabe erwarten) zu glätten, ohne die genaue Produktgröße der Dimensionen manuell berechnen zu müssen.\n",
    "inputs = images.view(images.shape[0], -1)\n",
    "print(inputs.shape)\n",
    "\n",
    "# Create parameters\n",
    "w1 = torch.randn(784, 256)\n",
    "\n",
    "b1 = torch.randn(256)\n",
    "\n",
    "w2 = torch.randn(256, 10)\n",
    "b2 = torch.randn(10)\n",
    "\n",
    "h = torch.sigmoid((torch.mm(inputs, w1) + b1))\n",
    "\n",
    "out = torch.mm(h, w2) + b2\n"
   ],
   "outputs": [
    {
     "name": "stdout",
     "output_type": "stream",
     "text": [
      "64\n",
      "torch.Size([64, 784])\n"
     ]
    }
   ],
   "execution_count": 8
  },
  {
   "cell_type": "markdown",
   "metadata": {},
   "source": [
    "Now we have 10 outputs for our network. We want to pass in an image to our network and get out a probability distribution over the classes that tells us the likely class(es) the image belongs to. Something that looks like this:\n",
    "<img src='assets/image_distribution.png' width=500px>\n",
    "\n",
    "Here we see that the probability for each class is roughly the same. This is representing an untrained network, it hasn't seen any data yet so it just returns a uniform distribution with equal probabilities for each class.\n",
    "\n",
    "To calculate this probability distribution, we often use the [**softmax** function](https://en.wikipedia.org/wiki/Softmax_function). Mathematically this looks like\n",
    "\n",
    "$$\n",
    "\\Large \\sigma(x_i) = \\cfrac{e^{x_i}}{\\sum_k^K{e^{x_k}}}\n",
    "$$\n",
    "\n",
    "What this does is squish each input $x_i$ between 0 and 1 and normalizes the values to give you a proper probability distribution where the probabilites sum up to one.\n",
    "\n",
    "> **Exercise:** Implement a function `softmax` that performs the softmax calculation and returns probability distributions for each example in the batch. Note that you'll need to pay attention to the shapes when doing this. If you have a tensor `a` with shape `(64, 10)` and a tensor `b` with shape `(64,)`, doing `a/b` will give you an error because PyTorch will try to do the division across the columns (called broadcasting) but you'll get a size mismatch. The way to think about this is for each of the 64 examples, you only want to divide by one value, the sum in the denominator. So you need `b` to have a shape of `(64, 1)`. This way PyTorch will divide the 10 values in each row of `a` by the one value in each row of `b`. Pay attention to how you take the sum as well. You'll need to define the `dim` keyword in `torch.sum`. Setting `dim=0` takes the sum across the rows while `dim=1` takes the sum across the columns."
   ]
  },
  {
   "cell_type": "code",
   "metadata": {
    "ExecuteTime": {
     "end_time": "2025-07-25T11:56:22.504880Z",
     "start_time": "2025-07-25T11:56:22.489920Z"
    }
   },
   "source": [
    "print(out.shape)\n",
    "def softmax(x):\n",
    "    return torch.softmax(x)\n",
    "\n",
    "# Here, out should be the output of the network in the previous excercise with shape (64,10)\n",
    "probabilities = softmax((out, 1))\n",
    "\n",
    "# Does it have the right shape? Should be (64, 10)\n",
    "print(probabilities.shape)\n",
    "# Does it sum to 1?\n",
    "print(probabilities.sum(dim=1))"
   ],
   "outputs": [
    {
     "name": "stdout",
     "output_type": "stream",
     "text": [
      "torch.Size([64, 10])\n"
     ]
    },
    {
     "ename": "TypeError",
     "evalue": "softmax() received an invalid combination of arguments - got (tuple), but expected one of:\n * (Tensor input, int dim, torch.dtype dtype = None, *, Tensor out = None)\n * (Tensor input, name dim, *, torch.dtype dtype = None)\n",
     "output_type": "error",
     "traceback": [
      "\u001B[31m---------------------------------------------------------------------------\u001B[39m",
      "\u001B[31mTypeError\u001B[39m                                 Traceback (most recent call last)",
      "\u001B[36mCell\u001B[39m\u001B[36m \u001B[39m\u001B[32mIn[14]\u001B[39m\u001B[32m, line 6\u001B[39m\n\u001B[32m      3\u001B[39m     \u001B[38;5;28;01mreturn\u001B[39;00m torch.softmax(x)\n\u001B[32m      5\u001B[39m \u001B[38;5;66;03m# Here, out should be the output of the network in the previous excercise with shape (64,10)\u001B[39;00m\n\u001B[32m----> \u001B[39m\u001B[32m6\u001B[39m probabilities = \u001B[43msoftmax\u001B[49m\u001B[43m(\u001B[49m\u001B[43m(\u001B[49m\u001B[43mout\u001B[49m\u001B[43m,\u001B[49m\u001B[43m \u001B[49m\u001B[32;43m1\u001B[39;49m\u001B[43m)\u001B[49m\u001B[43m)\u001B[49m\n\u001B[32m      8\u001B[39m \u001B[38;5;66;03m# Does it have the right shape? Should be (64, 10)\u001B[39;00m\n\u001B[32m      9\u001B[39m \u001B[38;5;28mprint\u001B[39m(probabilities.shape)\n",
      "\u001B[36mCell\u001B[39m\u001B[36m \u001B[39m\u001B[32mIn[14]\u001B[39m\u001B[32m, line 3\u001B[39m, in \u001B[36msoftmax\u001B[39m\u001B[34m(x)\u001B[39m\n\u001B[32m      2\u001B[39m \u001B[38;5;28;01mdef\u001B[39;00m\u001B[38;5;250m \u001B[39m\u001B[34msoftmax\u001B[39m(x):\n\u001B[32m----> \u001B[39m\u001B[32m3\u001B[39m     \u001B[38;5;28;01mreturn\u001B[39;00m \u001B[43mtorch\u001B[49m\u001B[43m.\u001B[49m\u001B[43msoftmax\u001B[49m\u001B[43m(\u001B[49m\u001B[43mx\u001B[49m\u001B[43m)\u001B[49m\n",
      "\u001B[31mTypeError\u001B[39m: softmax() received an invalid combination of arguments - got (tuple), but expected one of:\n * (Tensor input, int dim, torch.dtype dtype = None, *, Tensor out = None)\n * (Tensor input, name dim, *, torch.dtype dtype = None)\n"
     ]
    }
   ],
   "execution_count": 14
  },
  {
   "cell_type": "markdown",
   "metadata": {},
   "source": [
    "## Building networks with PyTorch\n",
    "\n",
    "PyTorch provides a module `nn` that makes building networks much simpler. Here I'll show you how to build the same one as above with 784 inputs, 256 hidden units, 10 output units and a softmax output."
   ]
  },
  {
   "cell_type": "code",
   "metadata": {
    "ExecuteTime": {
     "end_time": "2025-07-25T11:58:11.425383Z",
     "start_time": "2025-07-25T11:58:11.423353Z"
    }
   },
   "source": [
    "from torch import nn"
   ],
   "outputs": [],
   "execution_count": 15
  },
  {
   "cell_type": "code",
   "metadata": {
    "ExecuteTime": {
     "end_time": "2025-07-25T11:58:13.360474Z",
     "start_time": "2025-07-25T11:58:13.358417Z"
    }
   },
   "source": [
    "class Network(nn.Module):\n",
    "    def __init__(self):\n",
    "        super().__init__()\n",
    "        \n",
    "        # Inputs to hidden layer linear transformation\n",
    "        self.hidden = nn.Linear(784, 256)\n",
    "        # Output layer, 10 units - one for each digit\n",
    "        self.output = nn.Linear(256, 10)\n",
    "        \n",
    "        # Define sigmoid activation and softmax output \n",
    "        self.sigmoid = nn.Sigmoid()\n",
    "        self.softmax = nn.Softmax(dim=1)\n",
    "        \n",
    "    def forward(self, x):\n",
    "        # Pass the input tensor through each of our operations\n",
    "        x = self.hidden(x)\n",
    "        x = self.sigmoid(x)\n",
    "        x = self.output(x)\n",
    "        x = self.softmax(x)\n",
    "        \n",
    "        return x"
   ],
   "outputs": [],
   "execution_count": 16
  },
  {
   "cell_type": "markdown",
   "metadata": {},
   "source": [
    "Let's go through this bit by bit.\n",
    "\n",
    "```python\n",
    "class Network(nn.Module):\n",
    "```\n",
    "\n",
    "Here we're inheriting from `nn.Module`. Combined with `super().__init__()` this creates a class that tracks the architecture and provides a lot of useful methods and attributes. It is mandatory to inherit from `nn.Module` when you're creating a class for your network. The name of the class itself can be anything.\n",
    "\n",
    "```python\n",
    "self.hidden = nn.Linear(784, 256)\n",
    "```\n",
    "\n",
    "This line creates a module for a linear transformation, $x\\mathbf{W} + b$, with 784 inputs and 256 outputs and assigns it to `self.hidden`. The module automatically creates the weight and bias tensors which we'll use in the `forward` method. You can access the weight and bias tensors once the network (`net`) is created with `net.hidden.weight` and `net.hidden.bias`.\n",
    "\n",
    "```python\n",
    "self.output = nn.Linear(256, 10)\n",
    "```\n",
    "\n",
    "Similarly, this creates another linear transformation with 256 inputs and 10 outputs.\n",
    "\n",
    "```python\n",
    "self.sigmoid = nn.Sigmoid()\n",
    "self.softmax = nn.Softmax(dim=1)\n",
    "```\n",
    "\n",
    "Here I defined operations for the sigmoid activation and softmax output. Setting `dim=1` in `nn.Softmax(dim=1)` calculates softmax across the columns.\n",
    "\n",
    "```python\n",
    "def forward(self, x):\n",
    "```\n",
    "\n",
    "PyTorch networks created with `nn.Module` must have a `forward` method defined. It takes in a tensor `x` and passes it through the operations you defined in the `__init__` method.\n",
    "\n",
    "```python\n",
    "x = self.hidden(x)\n",
    "x = self.sigmoid(x)\n",
    "x = self.output(x)\n",
    "x = self.softmax(x)\n",
    "```\n",
    "\n",
    "Here the input tensor `x` is passed through each operation a reassigned to `x`. We can see that the input tensor goes through the hidden layer, then a sigmoid function, then the output layer, and finally the softmax function. It doesn't matter what you name the variables here, as long as the inputs and outputs of the operations match the network architecture you want to build. The order in which you define things in the `__init__` method doesn't matter, but you'll need to sequence the operations correctly in the `forward` method.\n",
    "\n",
    "Now we can create a `Network` object."
   ]
  },
  {
   "cell_type": "code",
   "metadata": {
    "ExecuteTime": {
     "end_time": "2025-07-25T11:58:23.886054Z",
     "start_time": "2025-07-25T11:58:23.882814Z"
    }
   },
   "source": [
    "# Create the network and look at it's text representation\n",
    "model = Network()\n",
    "model"
   ],
   "outputs": [
    {
     "data": {
      "text/plain": [
       "Network(\n",
       "  (hidden): Linear(in_features=784, out_features=256, bias=True)\n",
       "  (output): Linear(in_features=256, out_features=10, bias=True)\n",
       "  (sigmoid): Sigmoid()\n",
       "  (softmax): Softmax(dim=1)\n",
       ")"
      ]
     },
     "execution_count": 17,
     "metadata": {},
     "output_type": "execute_result"
    }
   ],
   "execution_count": 17
  },
  {
   "cell_type": "markdown",
   "metadata": {},
   "source": [
    "You can define the network somewhat more concisely and clearly using the `torch.nn.functional` module. This is the most common way you'll see networks defined as many operations are simple element-wise functions. We normally import this module as `F`, `import torch.nn.functional as F`."
   ]
  },
  {
   "cell_type": "code",
   "metadata": {
    "ExecuteTime": {
     "end_time": "2025-07-25T11:58:39.691579Z",
     "start_time": "2025-07-25T11:58:39.689592Z"
    }
   },
   "source": [
    "import torch.nn.functional as F\n",
    "\n",
    "class Network(nn.Module):\n",
    "    def __init__(self):\n",
    "        super().__init__()\n",
    "        # Inputs to hidden layer linear transformation\n",
    "        self.hidden = nn.Linear(784, 256)\n",
    "        # Output layer, 10 units - one for each digit\n",
    "        self.output = nn.Linear(256, 10)\n",
    "        \n",
    "    def forward(self, x):\n",
    "        # Hidden layer with sigmoid activation\n",
    "        x = F.sigmoid(self.hidden(x))\n",
    "        # Output layer with softmax activation\n",
    "        x = F.softmax(self.output(x), dim=1)\n",
    "        \n",
    "        return x"
   ],
   "outputs": [],
   "execution_count": 18
  },
  {
   "cell_type": "markdown",
   "metadata": {},
   "source": [
    "### Activation functions\n",
    "\n",
    "So far we've only been looking at the softmax activation, but in general any function can be used as an activation function. The only requirement is that for a network to approximate a non-linear function, the activation functions must be non-linear. Here are a few more examples of common activation functions: Tanh (hyperbolic tangent), and ReLU (rectified linear unit).\n",
    "\n",
    "<img src=\"assets/activation.png\" width=700px>\n",
    "\n",
    "In practice, the ReLU function is used almost exclusively as the activation function for hidden layers."
   ]
  },
  {
   "cell_type": "markdown",
   "metadata": {},
   "source": [
    "### Your Turn to Build a Network\n",
    "\n",
    "<img src=\"assets/mlp_mnist.png\" width=600px>\n",
    "\n",
    "> **Exercise:** Create a network with 784 input units, a hidden layer with 128 units and a ReLU activation, then a hidden layer with 64 units and a ReLU activation, and finally an output layer with a softmax activation as shown above. You can use a ReLU activation with the `nn.ReLU` module or `F.relu` function."
   ]
  },
  {
   "cell_type": "code",
   "metadata": {
    "scrolled": true,
    "ExecuteTime": {
     "end_time": "2025-07-25T13:02:17.101757Z",
     "start_time": "2025-07-25T13:02:17.098262Z"
    }
   },
   "source": [
    "## import torch.nn.functional as F\n",
    "\n",
    "\n",
    "    #     super().__init__()\n",
    "    #     # Defining the layers, 128, 64, 10 units each\n",
    "    #     self.fc1 = nn.Linear(784, 128)\n",
    "    #     self.fc2 = nn.Linear(128, 64)\n",
    "    #     # Output layer, 10 units - one for each digit\n",
    "    #     self.fc3 = nn.Linear(64, 10)\n",
    "    #\n",
    "    # def forward(self, x):\n",
    "    #     ''' Forward pass through the network, returns the output logits '''\n",
    "    #\n",
    "    #     x = self.fc1(x)\n",
    "    #     x = F.relu(x)\n",
    "    #     x = self.fc2(x)\n",
    "    #     x = F.relu(x)\n",
    "    #     x = self.fc3(x)\n",
    "    #     x = F.softmax(x, dim=1)\n",
    "    #\n",
    "    #     return x\n",
    "\n",
    "\n",
    "\n",
    "class Network(nn.Module):\n",
    "    def __init__(self):\n",
    "        super().__init__()\n",
    "        # Inputs to hidden layer linear transformation\n",
    "        self.hidden1 = nn.Linear(784, 128)\n",
    "        self.hidden2 = nn.Linear(128, 64)\n",
    "\n",
    "        # Output layer, 10 units - one for each digit\n",
    "        self.output = nn.Linear(64, 10)\n",
    "\n",
    "    def forward(self, x):\n",
    "     # Pass data through the first hidden layer, then apply ReLU\n",
    "        x = F.relu(self.hidden1(x))\n",
    "\n",
    "        # Pass data through the second hidden layer, then apply ReLU\n",
    "        x = F.relu(self.hidden2(x))\n",
    "\n",
    "        # Pass data through the output layer, then apply Softmax\n",
    "        x = F.softmax(self.output(x), dim=1)\n",
    "\n",
    "\n",
    "        return x\n",
    "\n",
    "model = Network()\n",
    "print(model)"
   ],
   "outputs": [
    {
     "name": "stdout",
     "output_type": "stream",
     "text": [
      "Network(\n",
      "  (hidden1): Linear(in_features=784, out_features=128, bias=True)\n",
      "  (hidden2): Linear(in_features=128, out_features=64, bias=True)\n",
      "  (output): Linear(in_features=64, out_features=10, bias=True)\n",
      ")\n"
     ]
    }
   ],
   "execution_count": 30
  },
  {
   "cell_type": "markdown",
   "metadata": {},
   "source": [
    "### Initializing weights and biases\n",
    "\n",
    "The weights and such are automatically initialized for you, but it's possible to customize how they are initialized. The weights and biases are tensors attached to the layer you defined, you can get them with `model.fc1.weight` for instance."
   ]
  },
  {
   "cell_type": "code",
   "metadata": {
    "ExecuteTime": {
     "end_time": "2025-07-25T13:02:20.449669Z",
     "start_time": "2025-07-25T13:02:20.446776Z"
    }
   },
   "source": [
    "print(model.hidden1.weight)\n",
    "print(model.hidden1.bias)"
   ],
   "outputs": [
    {
     "name": "stdout",
     "output_type": "stream",
     "text": [
      "Parameter containing:\n",
      "tensor([[-0.0233,  0.0231, -0.0261,  ..., -0.0354,  0.0287, -0.0180],\n",
      "        [-0.0337, -0.0223,  0.0299,  ...,  0.0027,  0.0303,  0.0325],\n",
      "        [-0.0102,  0.0047, -0.0259,  ...,  0.0245,  0.0181, -0.0281],\n",
      "        ...,\n",
      "        [ 0.0060,  0.0163,  0.0086,  ...,  0.0151, -0.0222, -0.0019],\n",
      "        [-0.0117, -0.0136, -0.0145,  ...,  0.0130, -0.0348, -0.0076],\n",
      "        [ 0.0218, -0.0254, -0.0208,  ..., -0.0235, -0.0313, -0.0190]],\n",
      "       requires_grad=True)\n",
      "Parameter containing:\n",
      "tensor([ 0.0088,  0.0125, -0.0122, -0.0297,  0.0212,  0.0078, -0.0204, -0.0041,\n",
      "        -0.0206, -0.0135,  0.0070,  0.0225,  0.0081,  0.0089,  0.0094, -0.0159,\n",
      "         0.0050,  0.0017, -0.0163, -0.0039,  0.0332, -0.0340, -0.0331,  0.0346,\n",
      "        -0.0129, -0.0158, -0.0141, -0.0313, -0.0304, -0.0214, -0.0054,  0.0036,\n",
      "         0.0145,  0.0198,  0.0226,  0.0011, -0.0275,  0.0333, -0.0156, -0.0196,\n",
      "        -0.0108,  0.0216, -0.0255,  0.0125, -0.0344, -0.0323, -0.0347, -0.0183,\n",
      "         0.0194, -0.0051,  0.0332,  0.0057, -0.0336,  0.0102, -0.0304,  0.0293,\n",
      "        -0.0336, -0.0214,  0.0330,  0.0315,  0.0289, -0.0118,  0.0304, -0.0042,\n",
      "        -0.0163,  0.0194,  0.0154,  0.0235,  0.0125,  0.0178, -0.0139,  0.0235,\n",
      "        -0.0151,  0.0016,  0.0109,  0.0186, -0.0085, -0.0168, -0.0093,  0.0222,\n",
      "         0.0201, -0.0212, -0.0110,  0.0175,  0.0284, -0.0264, -0.0015,  0.0132,\n",
      "         0.0152,  0.0340,  0.0077, -0.0354, -0.0006, -0.0066,  0.0245, -0.0133,\n",
      "        -0.0098,  0.0064,  0.0098,  0.0032, -0.0063, -0.0232,  0.0266,  0.0180,\n",
      "         0.0330, -0.0287,  0.0183,  0.0084,  0.0331,  0.0006,  0.0357,  0.0247,\n",
      "        -0.0286,  0.0227, -0.0066, -0.0302, -0.0135,  0.0103,  0.0254,  0.0314,\n",
      "        -0.0162,  0.0115, -0.0051,  0.0165,  0.0214, -0.0062, -0.0132, -0.0130],\n",
      "       requires_grad=True)\n"
     ]
    }
   ],
   "execution_count": 31
  },
  {
   "cell_type": "markdown",
   "metadata": {},
   "source": [
    "For custom initialization, we want to modify these tensors in place. These are actually autograd *Variables*, so we need to get back the actual tensors with `model.fc1.weight.data`. Once we have the tensors, we can fill them with zeros (for biases) or random normal values."
   ]
  },
  {
   "cell_type": "code",
   "metadata": {
    "ExecuteTime": {
     "end_time": "2025-07-25T13:02:22.995346Z",
     "start_time": "2025-07-25T13:02:22.992610Z"
    }
   },
   "source": [
    "# Set biases to all zeros\n",
    "model.hidden1.bias.data.fill_(0)"
   ],
   "outputs": [
    {
     "data": {
      "text/plain": [
       "tensor([0., 0., 0., 0., 0., 0., 0., 0., 0., 0., 0., 0., 0., 0., 0., 0., 0., 0., 0., 0., 0., 0., 0., 0.,\n",
       "        0., 0., 0., 0., 0., 0., 0., 0., 0., 0., 0., 0., 0., 0., 0., 0., 0., 0., 0., 0., 0., 0., 0., 0.,\n",
       "        0., 0., 0., 0., 0., 0., 0., 0., 0., 0., 0., 0., 0., 0., 0., 0., 0., 0., 0., 0., 0., 0., 0., 0.,\n",
       "        0., 0., 0., 0., 0., 0., 0., 0., 0., 0., 0., 0., 0., 0., 0., 0., 0., 0., 0., 0., 0., 0., 0., 0.,\n",
       "        0., 0., 0., 0., 0., 0., 0., 0., 0., 0., 0., 0., 0., 0., 0., 0., 0., 0., 0., 0., 0., 0., 0., 0.,\n",
       "        0., 0., 0., 0., 0., 0., 0., 0.])"
      ]
     },
     "execution_count": 32,
     "metadata": {},
     "output_type": "execute_result"
    }
   ],
   "execution_count": 32
  },
  {
   "cell_type": "code",
   "metadata": {
    "ExecuteTime": {
     "end_time": "2025-07-25T13:02:24.669453Z",
     "start_time": "2025-07-25T13:02:24.666625Z"
    }
   },
   "source": [
    "# sample from random normal with standard dev = 0.01\n",
    "model.hidden1.weight.data.normal_(std=0.01)"
   ],
   "outputs": [
    {
     "data": {
      "text/plain": [
       "tensor([[ 6.7054e-03, -1.8889e-02,  9.9546e-03,  ..., -3.9285e-03,\n",
       "         -1.5924e-03,  2.2461e-04],\n",
       "        [-1.2560e-02, -2.7633e-03,  1.0705e-02,  ..., -1.8776e-03,\n",
       "          4.6190e-03, -4.1580e-05],\n",
       "        [-8.1290e-03,  7.7013e-03,  2.2807e-03,  ..., -3.6984e-03,\n",
       "         -1.0543e-02, -3.6010e-04],\n",
       "        ...,\n",
       "        [ 5.9433e-04,  3.8216e-03, -7.6962e-04,  ...,  2.0609e-03,\n",
       "         -8.7641e-03, -7.0531e-04],\n",
       "        [ 1.1676e-02,  1.0667e-02, -4.1263e-04,  ..., -1.6953e-03,\n",
       "          7.2557e-03,  4.3439e-03],\n",
       "        [-3.5922e-03, -1.6454e-03, -2.8111e-04,  ..., -6.9624e-03,\n",
       "          3.6780e-03,  6.1109e-04]])"
      ]
     },
     "execution_count": 33,
     "metadata": {},
     "output_type": "execute_result"
    }
   ],
   "execution_count": 33
  },
  {
   "cell_type": "markdown",
   "metadata": {},
   "source": [
    "### Forward pass\n",
    "\n",
    "Now that we have a network, let's see what happens when we pass in an image."
   ]
  },
  {
   "cell_type": "code",
   "metadata": {
    "ExecuteTime": {
     "end_time": "2025-07-25T13:02:43.281508Z",
     "start_time": "2025-07-25T13:02:43.200163Z"
    }
   },
   "source": [
    "# Grab some data \n",
    "dataiter = iter(trainloader)\n",
    "images, labels = next(dataiter)\n",
    "\n",
    "# Resize images into a 1D vector, new shape is (batch size, color channels, image pixels) \n",
    "images.resize_(64, 1, 784)\n",
    "# or images.resize_(images.shape[0], 1, 784) to automatically get batch size\n",
    "\n",
    "# Forward pass through the network\n",
    "img_idx = 0\n",
    "ps = model.forward(images[img_idx,:])\n",
    "\n",
    "img = images[img_idx]\n",
    "helper.view_classify(img.view(1, 28, 28), ps)"
   ],
   "outputs": [
    {
     "data": {
      "text/plain": [
       "<Figure size 600x900 with 2 Axes>"
      ],
      "image/png": "[encoded data removed]"
     },
     "metadata": {
      "image/png": {
       "width": 589,
       "height": 327
      }
     },
     "output_type": "display_data"
    }
   ],
   "execution_count": 38
  },
  {
   "cell_type": "markdown",
   "metadata": {},
   "source": [
    "As you can see above, our network has basically no idea what this digit is. It's because we haven't trained it yet, all the weights are random!\n",
    "\n",
    "### Using `nn.Sequential`\n",
    "\n",
    "PyTorch provides a convenient way to build networks like this where a tensor is passed sequentially through operations, `nn.Sequential` ([documentation](https://pytorch.org/docs/master/nn.html#torch.nn.Sequential)). Using this to build the equivalent network:"
   ]
  },
  {
   "cell_type": "code",
   "metadata": {
    "ExecuteTime": {
     "end_time": "2025-07-25T13:04:53.021580Z",
     "start_time": "2025-07-25T13:04:52.936944Z"
    }
   },
   "source": [
    "# Hyperparameters for our network\n",
    "input_size = 784\n",
    "hidden_sizes = [128, 64]\n",
    "output_size = 10\n",
    "\n",
    "# Build a feed-forward network\n",
    "model = nn.Sequential(nn.Linear(input_size, hidden_sizes[0]),\n",
    "                      nn.ReLU(),\n",
    "                      nn.Linear(hidden_sizes[0], hidden_sizes[1]),\n",
    "                      nn.ReLU(),\n",
    "                      nn.Linear(hidden_sizes[1], output_size),\n",
    "                      nn.Softmax(dim=1))\n",
    "print(model)\n",
    "\n",
    "# Forward pass through the network and display output\n",
    "images, labels = next(iter(trainloader))\n",
    "images.resize_(images.shape[0], 1, 784)\n",
    "ps = model.forward(images[0,:])\n",
    "helper.view_classify(images[0].view(1, 28, 28), ps)"
   ],
   "outputs": [
    {
     "name": "stdout",
     "output_type": "stream",
     "text": [
      "Sequential(\n",
      "  (0): Linear(in_features=784, out_features=128, bias=True)\n",
      "  (1): ReLU()\n",
      "  (2): Linear(in_features=128, out_features=64, bias=True)\n",
      "  (3): ReLU()\n",
      "  (4): Linear(in_features=64, out_features=10, bias=True)\n",
      "  (5): Softmax(dim=1)\n",
      ")\n"
     ]
    },
    {
     "data": {
      "text/plain": [
       "<Figure size 600x900 with 2 Axes>"
      ],
      "image/png": "[encoded data removed]"
     },
     "metadata": {
      "image/png": {
       "width": 589,
       "height": 327
      }
     },
     "output_type": "display_data"
    }
   ],
   "execution_count": 39
  },
  {
   "cell_type": "markdown",
   "metadata": {},
   "source": [
    "Here our model is the same as before: 784 input units, a hidden layer with 128 units, ReLU activation, 64 unit hidden layer, another ReLU, then the output layer with 10 units, and the softmax output.\n",
    "\n",
    "The operations are availble by passing in the appropriate index. For example, if you want to get first Linear operation and look at the weights, you'd use `model[0]`."
   ]
  },
  {
   "cell_type": "code",
   "metadata": {
    "ExecuteTime": {
     "end_time": "2025-07-25T13:05:12.689103Z",
     "start_time": "2025-07-25T13:05:12.684673Z"
    }
   },
   "source": [
    "print(model[0])\n",
    "model[0].weight"
   ],
   "outputs": [
    {
     "name": "stdout",
     "output_type": "stream",
     "text": [
      "Linear(in_features=784, out_features=128, bias=True)\n"
     ]
    },
    {
     "data": {
      "text/plain": [
       "Parameter containing:\n",
       "tensor([[-0.0311,  0.0046, -0.0081,  ..., -0.0024,  0.0002,  0.0154],\n",
       "        [ 0.0153, -0.0342,  0.0295,  ...,  0.0259,  0.0357,  0.0182],\n",
       "        [-0.0228,  0.0080, -0.0078,  ...,  0.0340,  0.0235,  0.0057],\n",
       "        ...,\n",
       "        [-0.0222,  0.0294,  0.0026,  ..., -0.0327,  0.0163, -0.0269],\n",
       "        [ 0.0199,  0.0144, -0.0059,  ..., -0.0220, -0.0230,  0.0046],\n",
       "        [-0.0203,  0.0312, -0.0237,  ...,  0.0129,  0.0163, -0.0225]],\n",
       "       requires_grad=True)"
      ]
     },
     "execution_count": 40,
     "metadata": {},
     "output_type": "execute_result"
    }
   ],
   "execution_count": 40
  },
  {
   "cell_type": "markdown",
   "metadata": {},
   "source": [
    "You can also pass in an `OrderedDict` to name the individual layers and operations, instead of using incremental integers. Note that dictionary keys must be unique, so _each operation must have a different name_."
   ]
  },
  {
   "cell_type": "code",
   "metadata": {
    "ExecuteTime": {
     "end_time": "2025-07-25T13:05:24.215452Z",
     "start_time": "2025-07-25T13:05:24.211428Z"
    }
   },
   "source": [
    "from collections import OrderedDict\n",
    "model = nn.Sequential(OrderedDict([\n",
    "                      ('fc1', nn.Linear(input_size, hidden_sizes[0])),\n",
    "                      ('relu1', nn.ReLU()),\n",
    "                      ('fc2', nn.Linear(hidden_sizes[0], hidden_sizes[1])),\n",
    "                      ('relu2', nn.ReLU()),\n",
    "                      ('output', nn.Linear(hidden_sizes[1], output_size)),\n",
    "                      ('softmax', nn.Softmax(dim=1))]))\n",
    "model"
   ],
   "outputs": [
    {
     "data": {
      "text/plain": [
       "Sequential(\n",
       "  (fc1): Linear(in_features=784, out_features=128, bias=True)\n",
       "  (relu1): ReLU()\n",
       "  (fc2): Linear(in_features=128, out_features=64, bias=True)\n",
       "  (relu2): ReLU()\n",
       "  (output): Linear(in_features=64, out_features=10, bias=True)\n",
       "  (softmax): Softmax(dim=1)\n",
       ")"
      ]
     },
     "execution_count": 41,
     "metadata": {},
     "output_type": "execute_result"
    }
   ],
   "execution_count": 41
  },
  {
   "cell_type": "markdown",
   "metadata": {},
   "source": [
    "Now you can access layers either by integer or the name"
   ]
  },
  {
   "cell_type": "code",
   "metadata": {
    "ExecuteTime": {
     "end_time": "2025-07-25T13:05:28.516547Z",
     "start_time": "2025-07-25T13:05:28.514361Z"
    }
   },
   "source": [
    "print(model[0])\n",
    "print(model.fc1)"
   ],
   "outputs": [
    {
     "name": "stdout",
     "output_type": "stream",
     "text": [
      "Linear(in_features=784, out_features=128, bias=True)\n",
      "Linear(in_features=784, out_features=128, bias=True)\n"
     ]
    }
   ],
   "execution_count": 42
  },
  {
   "cell_type": "markdown",
   "metadata": {},
   "source": [
    "In the next notebook, we'll see how we can train a neural network to accuractly predict the numbers appearing in the MNIST images."
   ]
  }
 ],
 "metadata": {
  "kernelspec": {
   "display_name": "Python 3 (ipykernel)",
   "language": "python",
   "name": "python3"
  },
  "language_info": {
   "codemirror_mode": {
    "name": "ipython",
    "version": 3
   },
   "file_extension": ".py",
   "mimetype": "text/x-python",
   "name": "python",
   "nbconvert_exporter": "python",
   "pygments_lexer": "ipython3",
   "version": "3.10.11"
  }
 },
 "nbformat": 4,
 "nbformat_minor": 2
}
