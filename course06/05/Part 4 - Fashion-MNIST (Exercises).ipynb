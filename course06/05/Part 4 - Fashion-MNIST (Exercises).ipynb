{
 "cells": [
  {
   "cell_type": "markdown",
   "metadata": {},
   "source": [
    "# Classifying Fashion-MNIST\n",
    "\n",
    "Now it's your turn to build and train a neural network. You'll be using the [Fashion-MNIST dataset](https://github.com/zalandoresearch/fashion-mnist), a drop-in replacement for the MNIST dataset. MNIST is actually quite trivial with neural networks where you can easily achieve better than 97% accuracy. Fashion-MNIST is a set of 28x28 greyscale images of clothes. It's more complex than MNIST, so it's a better representation of the actual performance of your network, and a better representation of datasets you'll use in the real world.\n",
    "\n",
    "<img src='assets/fashion-mnist-sprite.png' width=500px>\n",
    "\n",
    "In this notebook, you'll build your own neural network. For the most part, you could just copy and paste the code from Part 3, but you wouldn't be learning. It's important for you to write the code yourself and get it to work. Feel free to consult the previous notebooks though as you work through this.\n",
    "\n",
    "First off, let's load the dataset through torchvision."
   ]
  },
  {
   "cell_type": "code",
   "metadata": {
    "ExecuteTime": {
     "end_time": "2025-08-08T07:14:48.775121Z",
     "start_time": "2025-08-08T07:14:48.455622Z"
    }
   },
   "source": [
    "import torch\n",
    "from torchvision import datasets, transforms\n",
    "import helper\n",
    "\n",
    "# Define a transform to normalize the data\n",
    "transform = transforms.Compose([transforms.ToTensor(),\n",
    "                                transforms.Normalize((0.5, ), (0.5, ))])\n",
    "# Download and load the training data\n",
    "trainset = datasets.FashionMNIST('~/.pytorch/F_MNIST_data/', download=True, train=True, transform=transform)\n",
    "trainloader = torch.utils.data.DataLoader(trainset, batch_size=64, shuffle=True)\n",
    "\n",
    "# Download and load the test data\n",
    "testset = datasets.FashionMNIST('~/.pytorch/F_MNIST_data/', download=True, train=False, transform=transform)\n",
    "testloader = torch.utils.data.DataLoader(testset, batch_size=64, shuffle=True)\n",
    "print(len(testset))\n",
    "print(len(testloader))"
   ],
   "outputs": [
    {
     "name": "stdout",
     "output_type": "stream",
     "text": [
      "10000\n",
      "157\n"
     ]
    }
   ],
   "execution_count": 8
  },
  {
   "metadata": {},
   "cell_type": "markdown",
   "source": ""
  },
  {
   "cell_type": "markdown",
   "metadata": {},
   "source": [
    "Here we can see one of the images.\n",
    "\n",
    "# This dictionary maps the integer labels to their string names,\n",
    "# as defined by the creators of the Fashion-MNIST dataset.\n",
    "class_mapping = {\n",
    "    0: \"T-shirt/top\",\n",
    "    1: \"Trouser\",\n",
    "    2: \"Pullover\",\n",
    "    3: \"Dress\",\n",
    "    4: \"Coat\",\n",
    "    5: \"Sandal\",\n",
    "    6: \"Shirt\",\n",
    "    7: \"Sneaker\",\n",
    "    8: \"Bag\",\n",
    "    9: \"Ankle boot\"\n",
    "}\n"
   ]
  },
  {
   "cell_type": "code",
   "metadata": {
    "ExecuteTime": {
     "end_time": "2025-08-08T07:14:51.199432Z",
     "start_time": "2025-08-08T07:14:51.143644Z"
    }
   },
   "source": [
    "class_mapping = {\n",
    "    0: \"T-shirt/top\",\n",
    "    1: \"Trouser\",\n",
    "    2: \"Pullover\",\n",
    "    3: \"Dress\",\n",
    "    4: \"Coat\",\n",
    "    5: \"Sandal\",\n",
    "    6: \"Shirt\",\n",
    "    7: \"Sneaker\",\n",
    "    8: \"Bag\",\n",
    "    9: \"Ankle boot\"\n",
    "}\n",
    "\n",
    "image, label = next(iter(trainloader))\n",
    "print(label[0])\n",
    "print(class_mapping[int(label[0])])\n",
    "helper.imshow(image[0,:]);"
   ],
   "outputs": [
    {
     "name": "stdout",
     "output_type": "stream",
     "text": [
      "tensor(1)\n",
      "Trouser\n"
     ]
    },
    {
     "data": {
      "text/plain": [
       "<Figure size 640x480 with 1 Axes>"
      ],
      "image/png": "[encoded data removed]"
     },
     "metadata": {},
     "output_type": "display_data"
    }
   ],
   "execution_count": 9
  },
  {
   "cell_type": "markdown",
   "metadata": {},
   "source": [
    "## Building the network\n",
    "\n",
    "Here you should define your network. As with MNIST, each image is 28x28 which is a total of 784 pixels, and there are 10 classes. You should include at least one hidden layer. We suggest you use ReLU activations for the layers and to return the logits or log-softmax from the forward pass. It's up to you how many layers you add and the size of those layers."
   ]
  },
  {
   "cell_type": "code",
   "metadata": {
    "ExecuteTime": {
     "end_time": "2025-08-08T07:14:53.646922Z",
     "start_time": "2025-08-08T07:14:53.641322Z"
    }
   },
   "source": [
    "# TODO: Define your network architecture here\n",
    "import torch\n",
    "from torch import nn\n",
    "from torch import optim\n",
    "\n",
    "model = nn.Sequential(nn.Linear(784, 128),\n",
    "                      nn.ReLU(),\n",
    "                      nn.Linear(128, 128),\n",
    "                      nn.ReLU(),\n",
    "                      nn.Linear(128, 128),\n",
    "                      nn.ReLU(),\n",
    "                      nn.Linear(128, 128),\n",
    "                      nn.ReLU(),\n",
    "                      nn.Linear(128, 64),\n",
    "                      nn.ReLU(),\n",
    "                      nn.Linear(64,10),\n",
    "                      nn.LogSoftmax(dim=1))  #dim=1 oder 0? wieso\n",
    "\n",
    "model = nn.Sequential(nn.Linear(784, 128),\n",
    "                      nn.ReLU(),\n",
    "                      nn.Linear(128, 128),\n",
    "                      nn.ReLU(),\n",
    "                      nn.Linear(128, 64),\n",
    "                      nn.ReLU(),\n",
    "                      nn.Linear(64,10),\n",
    "                      nn.LogSoftmax(dim=1))  #dim=1 oder 0? wieso\n",
    "\n",
    "model1 = nn.Sequential(nn.Linear(784, 128),\n",
    "                      nn.ReLU(),\n",
    "                      nn.Linear(128, 64),\n",
    "                      nn.ReLU(),\n",
    "                      nn.Linear(64,10),\n",
    "                      nn.LogSoftmax(dim=1))  #dim=1 oder 0? wieso\n",
    "\n",
    "\n"
   ],
   "outputs": [],
   "execution_count": 10
  },
  {
   "cell_type": "markdown",
   "metadata": {},
   "source": [
    "# Train the network\n",
    "\n",
    "Now you should create your network and train it. First you'll want to define [the criterion](http://pytorch.org/docs/master/nn.html#loss-functions) ( something like `nn.CrossEntropyLoss`) and [the optimizer](http://pytorch.org/docs/master/optim.html) (typically `optim.SGD` or `optim.Adam`).\n",
    "\n",
    "Then write the training code. Remember the training pass is a fairly straightforward process:\n",
    "\n",
    "* Make a forward pass through the network to get the logits \n",
    "* Use the logits to calculate the loss\n",
    "* Perform a backward pass through the network with `loss.backward()` to calculate the gradients\n",
    "* Take a step with the optimizer to update the weights\n",
    "\n",
    "By adjusting the hyperparameters (hidden units, learning rate, etc), you should be able to get the training loss below 0.4."
   ]
  },
  {
   "cell_type": "code",
   "metadata": {
    "ExecuteTime": {
     "end_time": "2025-08-08T07:14:57.208801Z",
     "start_time": "2025-08-08T07:14:57.206036Z"
    }
   },
   "source": [
    "# TODO: Create the network, define the criterion and optimizer\n",
    "criterion = nn.NLLLoss()\n",
    "optimizer = optim.Adam(model.parameters(), lr=0.003)"
   ],
   "outputs": [],
   "execution_count": 11
  },
  {
   "metadata": {},
   "cell_type": "markdown",
   "source": [
    "1.criterion = nn.NLLLoss()•criterion (Kriterium) ist hier die Verlustfunktion (Loss Function). Ihre Aufgabe ist es zu messen, wie stark die Vorhersage des Modells von der tatsächlichen Wahrheit (den labels) abweicht. Ein hoher Wert bedeutet eine große Abweichung (schlechte Vorhersage), ein niedriger Wert eine geringe Abweichung (gute Vorhersage).•nn.NLLLoss steht für Negative Log Likelihood Loss. Diese Verlustfunktion wird häufig für Klassifizierungsprobleme eingesetzt. Sie erwartet als Input logarithmische Wahrscheinlichkeiten, weshalb sie perfekt mit der nn.LogSoftmax-Aktivierungsfunktion in der letzten Schicht deines Modells zusammenspielt.\n",
    "\n",
    "\n",
    "2.optimizer = optim.SGD(model.parameters(), lr=0.003)•\n",
    "\n",
    "Der optimizer (Optimierer) ist der Algorithmus, der die Gewichte und Biases (also die Parameter) deines Modells anpasst, um den von der criterion berechneten Verlust zu minimieren.•optim.SGD steht für Stochastic Gradient Descent (Stochastisches Gradientenabstiegsverfahren), ein fundamentaler und weit verbreiteter Optimierungsalgorithmus.•model.parameters(): Damit teilst du dem Optimierer mit, welche Parameter er während des Trainings aktualisieren soll – in diesem Fall alle trainierbaren Parameter deines Modells.\n",
    "\n",
    "•lr=0.003: lr ist die Learning Rate (Lernrate). Sie ist ein entscheidender Hyperparameter, der die Schrittgröße bei der Anpassung der Gewichte steuert. Eine zu hohe Lernrate kann das Training instabil machen, während eine zu niedrige es stark verlangsamen kann.Zusammengefasst legst du mit diesen beiden Zeilen fest, wie der Fehler des Modells gemessen (NLLLoss) und wie das Modell aus diesem Fehler lernen soll (SGD), um sich zu verbessern."
   ]
  },
  {
   "cell_type": "code",
   "metadata": {
    "ExecuteTime": {
     "end_time": "2025-08-08T07:15:45.044250Z",
     "start_time": "2025-08-08T07:15:00.210736Z"
    }
   },
   "source": [
    " # TODO: Train the network here\n",
    "epochs = 20\n",
    "for e in range(epochs):\n",
    "    running_loss = 0\n",
    "    for images, labels in trainloader:\n",
    "        # Flatten MNIST images into a 784 long vector\n",
    "        images = images.view(images.shape[0], -1)\n",
    "\n",
    "        # TODO: Training pass\n",
    "        optimizer.zero_grad()\n",
    "\n",
    "        output = model.forward(images)\n",
    "        loss = criterion(output, labels)\n",
    "        loss.backward()\n",
    "        optimizer.step()\n",
    "\n",
    "        running_loss += loss.item()\n",
    "    else:\n",
    "        print(f\"Training loss: {running_loss/len(trainloader)}\")"
   ],
   "outputs": [
    {
     "name": "stdout",
     "output_type": "stream",
     "text": [
      "Training loss: 0.5170466204537257\n",
      "Training loss: 0.39540875788881324\n",
      "Training loss: 0.35959597462530074\n",
      "Training loss: 0.3380433243872133\n",
      "Training loss: 0.32116428590310153\n",
      "Training loss: 0.3088118748497099\n",
      "Training loss: 0.29570201500805454\n",
      "Training loss: 0.28543100146247125\n",
      "Training loss: 0.27575427567812677\n",
      "Training loss: 0.27199091833791755\n",
      "Training loss: 0.26408997058931954\n",
      "Training loss: 0.2596789124900344\n",
      "Training loss: 0.2555856726793592\n",
      "Training loss: 0.25003422126928565\n",
      "Training loss: 0.24234745225736073\n",
      "Training loss: 0.2354995871006426\n",
      "Training loss: 0.2310293002733226\n",
      "Training loss: 0.23124822158056663\n",
      "Training loss: 0.2235306906881236\n",
      "Training loss: 0.2224540297132629\n"
     ]
    }
   ],
   "execution_count": 12
  },
  {
   "cell_type": "code",
   "metadata": {
    "ExecuteTime": {
     "end_time": "2025-08-08T07:49:02.805434Z",
     "start_time": "2025-08-08T07:49:02.726238Z"
    }
   },
   "source": [
    "%matplotlib inline\n",
    "%config InlineBackend.figure_format = 'retina'\n",
    "\n",
    "import helper\n",
    "\n",
    "# Test out your network!\n",
    "\n",
    "dataiter = iter(testloader)\n",
    "images, labels = next(dataiter)\n",
    "img = images[0]\n",
    "# Convert 2D image to 1D vector\n",
    "img = img.resize_(1, 784)\n",
    "\n",
    "# TODO: Calculate the class probabilities (softmax) for img\n",
    "ps = torch.exp(model(img))\n",
    "# Deine Lösung ps = torch.exp(model(img)) ist absolut korrekt und der eleganteste Weg, das Problem hier zu lösen. Warum ist das richtig?\n",
    "# 1.Modellausgabe: Dein Modell model hat als letzte Schicht nn.LogSoftmax(dim=1). Das bedeutet, wenn du ein Bild durch das Modell schickst (model(img)), ist das Ergebnis nicht der rohe \"Score\" (Logit), sondern bereits der Logarithmus der Wahrscheinlichkeit (log-probability).\n",
    "#\n",
    "# 2.Umwandlung: Um von den log-probabilities zu den tatsächlichen Wahrscheinlichkeiten zu gelangen, musst du die Umkehrfunktion des natürlichen Logarithmus anwenden. Das ist die Exponentialfunktion, in PyTorch torch.exp().\n",
    "\n",
    "# Plot the image and probabilities\n",
    "helper.view_classify(img.resize_(1, 28, 28), ps, version='Fashion')"
   ],
   "outputs": [
    {
     "data": {
      "text/plain": [
       "<Figure size 600x900 with 2 Axes>"
      ],
      "image/png": "[encoded data removed]"
     },
     "metadata": {
      "image/png": {
       "width": 589,
       "height": 301
      }
     },
     "output_type": "display_data"
    }
   ],
   "execution_count": 16
  }
 ],
 "metadata": {
  "kernelspec": {
   "display_name": "Python 3 (ipykernel)",
   "language": "python",
   "name": "python3"
  },
  "language_info": {
   "codemirror_mode": {
    "name": "ipython",
    "version": 3
   },
   "file_extension": ".py",
   "mimetype": "text/x-python",
   "name": "python",
   "nbconvert_exporter": "python",
   "pygments_lexer": "ipython3",
   "version": "3.10.11"
  }
 },
 "nbformat": 4,
 "nbformat_minor": 2
}
