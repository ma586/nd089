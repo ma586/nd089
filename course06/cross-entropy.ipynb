{
 "cells": [
  {
   "cell_type": "code",
   "id": "initial_id",
   "metadata": {
    "collapsed": true,
    "ExecuteTime": {
     "end_time": "2025-03-31T13:01:19.363489Z",
     "start_time": "2025-03-31T13:01:19.360264Z"
    }
   },
   "source": [
    "import math\n",
    "import unittest\n",
    "import numpy as np\n",
    "\n",
    "\n",
    "# TODO: complete the function\n",
    "def cross_entropy(Y, P):\n",
    "    \"\"\"\n",
    "    This function takes as input two lists Y and P, and returns the float\n",
    "    corresponding to their cross-entropy.\n",
    "    \"\"\"\n",
    "    prop_sum = 0\n",
    "    for index, y in enumerate(Y):\n",
    "        prop_sum += y * math.log(P[index]) + (1-y) * math.log(1-P[index])\n",
    "    prop_sum =+ -1 * prop_sum\n",
    "\n",
    "    # prop = np.multiply(Y, P)\n",
    "    # np.sum(math.log(prop))\n",
    "    return prop_sum\n",
    "\n",
    "def cross_entropy_solution(Y, P):\n",
    "    Y = np.float64(Y)\n",
    "    P = np.float64(P)\n",
    "    return -np.sum(Y  *np.log(P) + (1 - Y)*  np.log(1 - P))\n",
    "\n",
    "\n",
    "Y = [1, 1, 0]\n",
    "P = [0.8, 0.7, 0.1]\n",
    "\n",
    "result = cross_entropy(Y, P)\n",
    "print(result)\n",
    "\n",
    "result1 = cross_entropy_solution(Y, P)\n",
    "print(result1)\n",
    "\n",
    "assert result == result1"
   ],
   "outputs": [
    {
     "name": "stdout",
     "output_type": "stream",
     "text": [
      "0.6851790109107685\n",
      "0.6851790109107685\n"
     ]
    }
   ],
   "execution_count": 20
  },
  {
   "metadata": {},
   "cell_type": "markdown",
   "source": "",
   "id": "6eaf31b4116bcbbd"
  },
  {
   "metadata": {},
   "cell_type": "markdown",
   "source": [
    "\n",
    "![image info](/Users/m/src/github/ai/nd089/course06/cross-entropy.png)\n"
   ],
   "id": "208ac0cae461ff8f"
  },
  {
   "metadata": {},
   "cell_type": "code",
   "outputs": [],
   "execution_count": null,
   "source": "",
   "id": "d180910a354e924"
  }
 ],
 "metadata": {
  "kernelspec": {
   "display_name": "Python 3",
   "language": "python",
   "name": "python3"
  },
  "language_info": {
   "codemirror_mode": {
    "name": "ipython",
    "version": 2
   },
   "file_extension": ".py",
   "mimetype": "text/x-python",
   "name": "python",
   "nbconvert_exporter": "python",
   "pygments_lexer": "ipython2",
   "version": "2.7.6"
  }
 },
 "nbformat": 4,
 "nbformat_minor": 5
}
