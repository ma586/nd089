{
 "cells": [
  {
   "metadata": {
    "ExecuteTime": {
     "end_time": "2025-03-31T11:11:04.490199Z",
     "start_time": "2025-03-31T11:11:04.486855Z"
    }
   },
   "cell_type": "code",
   "source": [
    "import math\n",
    "\n",
    "import numpy as np\n",
    "\n",
    "# TODO: complete the function\n",
    "def softmax(L):\n",
    "    \"\"\"\n",
    "    This function takes as input a list of numbers, and returns the list\n",
    "    of values given by the softmax function.\n",
    "    \"\"\"\n",
    "    denominator = 0\n",
    "    for n in L:\n",
    "        denominator += math.exp(n)\n",
    "\n",
    "    result = []\n",
    "    for n in L:\n",
    "        result.append(math.exp(n) / denominator)\n",
    "    print(L)\n",
    "    print(denominator)\n",
    "    print(type(L))\n",
    "    print(result)\n",
    "    return result\n",
    "\n",
    "### Notebook grading\n",
    "\n",
    "def correct_softmax(L):\n",
    "    exp_L = np.exp(L)\n",
    "    return list(np.divide(exp_L, exp_L.sum()))\n",
    "\n",
    "L_test = [5,6,7]\n",
    "solution = correct_softmax(L_test)\n",
    "trial = softmax(L_test)\n",
    "\n",
    "if len(trial) != len(solution):\n",
    "    print(\"Hmm... there must be a mistake. Trying for L={}. The \\\n",
    "length of the correct result is {} but the list returned by your code \\\n",
    "is of length {}\".format(\n",
    "        L_test,\n",
    "        len(solution),\n",
    "        len(trial)\n",
    "    ))\n",
    "elif np.allclose(trial, solution):\n",
    "    print(\"Correct!\")\n",
    "else:\n",
    "    print(\"Hmm... there must be a mistake. Trying for L={}. The \\\n",
    "correct answer is {} and your code returned {}\".format(\n",
    "        L_test,\n",
    "        solution,\n",
    "        trial\n",
    "    ))"
   ],
   "id": "d3fc6227e2f5c9dd",
   "outputs": [
    {
     "name": "stdout",
     "output_type": "stream",
     "text": [
      "[5, 6, 7]\n",
      "1648.4751110237703\n",
      "<class 'list'>\n",
      "[0.09003057317038046, 0.24472847105479764, 0.6652409557748219]\n",
      "Correct!\n"
     ]
    }
   ],
   "execution_count": 6
  },
  {
   "metadata": {
    "ExecuteTime": {
     "end_time": "2025-03-31T12:09:27.500525Z",
     "start_time": "2025-03-31T12:09:27.489033Z"
    }
   },
   "cell_type": "code",
   "source": [
    "from math import sin, cos, log, exp\n",
    "\n",
    "x = -1\n",
    "y = -2\n",
    "z = -3\n",
    "print(sin(x) + sin(y) + sin(z))\n",
    "print(cos(x) + cos(y) + cos(z))\n",
    "print(exp(x) + exp(y) + exp(z))\n",
    "print(log(x) + log(y) + log(z))\n"
   ],
   "id": "978eaa3fa40500c4",
   "outputs": [
    {
     "name": "stdout",
     "output_type": "stream",
     "text": [
      "-1.8918884196934453\n",
      "-0.865837027279448\n",
      "0.553001792775919\n"
     ]
    },
    {
     "ename": "ValueError",
     "evalue": "math domain error",
     "output_type": "error",
     "traceback": [
      "\u001B[31m---------------------------------------------------------------------------\u001B[39m",
      "\u001B[31mValueError\u001B[39m                                Traceback (most recent call last)",
      "\u001B[36mCell\u001B[39m\u001B[36m \u001B[39m\u001B[32mIn[13]\u001B[39m\u001B[32m, line 9\u001B[39m\n\u001B[32m      7\u001B[39m \u001B[38;5;28mprint\u001B[39m(cos(x) + cos(y) + cos(z))\n\u001B[32m      8\u001B[39m \u001B[38;5;28mprint\u001B[39m(exp(x) + exp(y) + exp(z))\n\u001B[32m----> \u001B[39m\u001B[32m9\u001B[39m \u001B[38;5;28mprint\u001B[39m(\u001B[43mlog\u001B[49m\u001B[43m(\u001B[49m\u001B[43mx\u001B[49m\u001B[43m)\u001B[49m + log(y) + log(z))\n",
      "\u001B[31mValueError\u001B[39m: math domain error"
     ]
    }
   ],
   "execution_count": 13
  }
 ],
 "metadata": {
  "kernelspec": {
   "display_name": "Python 3",
   "language": "python",
   "name": "python3"
  },
  "language_info": {
   "codemirror_mode": {
    "name": "ipython",
    "version": 2
   },
   "file_extension": ".py",
   "mimetype": "text/x-python",
   "name": "python",
   "nbconvert_exporter": "python",
   "pygments_lexer": "ipython2",
   "version": "2.7.6"
  }
 },
 "nbformat": 4,
 "nbformat_minor": 5
}
